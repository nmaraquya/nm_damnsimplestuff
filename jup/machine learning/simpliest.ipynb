{
 "cells": [
  {
   "cell_type": "markdown",
   "source": [
    "# simpliest example 1: single neuron with naive training\n",
    "Lets start with single neuron and dummiest task: educate one neuron to calculate \"how many apples can we byu with given money?\"  \n",
    "we know the exact price for one apple, but we won't use it in machine, we will use it just to make a dataset for training and dataset for testing  \n",
    "So, in this example our neural network will:\n",
    "* consist only one neuron\n",
    "* have single input - amount of money\n",
    "* have single output - amount of apples we can buy\n",
    "Usage of the trained network should be as fallows:\n",
    "amountOfApples = neuron.do(amountOfMoney)\n",
    "\n",
    "this is a very stupid example, i bet noone does it in that way. However it is damneasy, so anyone can understand it"
   ],
   "metadata": {}
  },
  {
   "cell_type": "code",
   "execution_count": null,
   "source": [],
   "outputs": [],
   "metadata": {}
  },
  {
   "cell_type": "code",
   "execution_count": 190,
   "source": [
    "import random, matplotlib\n",
    "\n",
    "class neuron:\n",
    "    def __init__(self, weight=1) -> None:\n",
    "        self.weight = weight\n",
    "\n",
    "    def __str__(self) -> str:\n",
    "        return(str(self.weight))\n",
    "\n",
    "    def do(self,input) -> float:\n",
    "        return input * self.weight\n",
    "\n",
    "    def train(self,input,expected) -> float:\n",
    "        output = self.do(input)\n",
    "        error = expected - output\n",
    "        delta = 1 * self.act(error,2)\n",
    "        self.weight += delta\n",
    "        return error\n",
    "\n",
    "    def act(self,error, mode) -> float:\n",
    "        if mode == 1: # naive linear\n",
    "            return (error/abs(error))/10000\n",
    "        if mode == 2: #  sigmoid:\n",
    "            return 1 / (1 + np.exp(-error))\n",
    "\n",
    "\n",
    "# describe the task!\n",
    "oneApplePrice = random.randint(1e0,1e2)\n",
    "\n",
    "# create our neuron!\n",
    "m_neuron = neuron()\n",
    "\n",
    "# Lets test our not trained neuron!\n",
    "moneyInPacket = 12412\n",
    "print(\"We know that with {0} money and the price {1} we can buy {2} apples.\".format(moneyInPacket, oneApplePrice, moneyInPacket/oneApplePrice))\n",
    "print(\"Our not educated neuron says that with {0} money we can buy {1} apples.\".format(moneyInPacket, m_neuron.do(moneyInPacket)))\n",
    "print(\"Our network have now error (we know the true weight): {0}\".format(oneApplePrice - m_neuron.weight))\n",
    "\n",
    "# try our neuron w/o training\n",
    "coeffList = []\n",
    "print(m_neuron.weight)\n",
    "for i in range(10000):\n",
    "    moneyInPacket = random.randint(1e4,1e5)\n",
    "    m_neuron.train(moneyInPacket,moneyInPacket/oneApplePrice)\n",
    "    coeffList.append(1/m_neuron.weight)\n",
    "\n",
    "print(m_neuron.weight)\n",
    "\n",
    "# Lets test our neuron!\n",
    "moneyInPacket = 12412\n",
    "print(\"We know that with {0} money and the price {1} we can buy {2} apples.\".format(moneyInPacket, oneApplePrice, moneyInPacket/oneApplePrice))\n",
    "print(\"Our educated neuron says that with {0} money we can buy {1} apples.\".format(moneyInPacket, m_neuron.do(moneyInPacket)))\n",
    "print(\"Our educated neuron says price is {0}, however the real price is {1}.\".format(1/m_neuron.weight, oneApplePrice))\n",
    "\n",
    "\n",
    "# plot the error over the entire training duration\n",
    "plt.figure(figsize=(15,5))\n",
    "plt.plot(range(len(coeffList)), coeffList)\n",
    "plt.plot(range(len(coeffList)), [oneApplePrice for i in range(len(coeffList)) ])\n",
    "plt.xlabel('Epoch')\n",
    "plt.ylabel('Error')\n",
    "plt.show()\n"
   ],
   "outputs": [
    {
     "output_type": "stream",
     "name": "stdout",
     "text": [
      "We know that with 12412 money and the price 69 we can buy 179.8840579710145 apples.\n",
      "Our not educated neuron says that with 12412 money we can buy 12412 apples.\n",
      "Our network have now error (we know the true weight): 68\n",
      "1\n",
      "1.0\n",
      "We know that with 12412 money and the price 69 we can buy 179.8840579710145 apples.\n",
      "Our educated neuron says that with 12412 money we can buy 12412.0 apples.\n",
      "Our educated neuron says price is 1.0, however the real price is 69.\n"
     ]
    },
    {
     "output_type": "stream",
     "name": "stderr",
     "text": [
      "<ipython-input-190-eaec4fd64bb9>:24: RuntimeWarning: overflow encountered in exp\n",
      "  return 1 / (1 + np.exp(-error))\n"
     ]
    },
    {
     "output_type": "display_data",
     "data": {
      "text/plain": [
       "<Figure size 1080x360 with 1 Axes>"
      ],
      "image/png": "[encoded data removed]"
     },
     "metadata": {
      "needs_background": "light"
     }
    }
   ],
   "metadata": {}
  },
  {
   "cell_type": "code",
   "execution_count": 188,
   "source": [
    "import numpy, random, os\n",
    "lr = 1 #learning rate\n",
    "bias = 1 #value of bias\n",
    "weights = [random.random(),random.random(),random.random()] #weights generated in a list (3 weights in total for 2 neurons and the bias)\n",
    "\n",
    "def Perceptron(input1, input2, output) :\n",
    "    outputP = input1*weights[0]+input2*weights[1]+bias*weights[2]\n",
    "    if outputP > 0 : #activation function (here Heaviside)\n",
    "        outputP = 1\n",
    "    else :\n",
    "        outputP = 0\n",
    "    error = output - outputP\n",
    "    weights[0] += error * input1 * lr\n",
    "    weights[1] += error * input2 * lr\n",
    "    weights[2] += error * bias * lr\n",
    "\n",
    "for i in range(50) :\n",
    "    Perceptron(1,1,1) #True or true\n",
    "    Perceptron(1,0,1) #True or false\n",
    "    Perceptron(0,1,1) #False or true\n",
    "    Perceptron(0,0,0) #False or false\n",
    "\n",
    "x = int(input())\n",
    "y = int(input())\n",
    "outputP = x*weights[0] + y*weights[1] + bias*weights[2]\n",
    "if outputP > 0 : #activation function\n",
    "    outputP = 1\n",
    "else :\n",
    "    outputP = 0\n",
    "print(x, \"or\", y, \"is : \", outputP)\n",
    "outputP = 1/(1+numpy.exp(-outputP)) #sigmoid function"
   ],
   "outputs": [
    {
     "output_type": "stream",
     "name": "stdout",
     "text": [
      "0 or 0 is :  0\n"
     ]
    }
   ],
   "metadata": {}
  },
  {
   "cell_type": "markdown",
   "source": [
    "# simpliest example 2:\n",
    "Train a simple network to mimik a binary operator like OR, NAND, NOR etc. (table of inputs/outputs will be given)"
   ],
   "metadata": {}
  },
  {
   "cell_type": "code",
   "execution_count": 183,
   "source": [
    "# https://towardsdatascience.com/inroduction-to-neural-networks-in-python-7e0b422e6c24\n",
    "# https://towardsdatascience.com/how-to-build-a-simple-neural-network-from-scratch-with-python-9f011896d2f3\n",
    "# https://lucidar.me/en/neural-networks/simplest-perceptron/\n",
    "\n",
    "# https://medium.com/@enduranceprog/machine-vision-digits-94eb258c6ff8\n",
    "\n",
    "import numpy as np # helps with the math\n",
    "import matplotlib.pyplot as plt # to plot error during training\n",
    "\n",
    "# input data\n",
    "inputs = np.array([[0, 1, 0],\n",
    "                   [0, 1, 1],\n",
    "                   [0, 0, 0],\n",
    "                   [1, 0, 0],\n",
    "                   [1, 1, 1],\n",
    "                   [1, 0, 1]])\n",
    "# output data\n",
    "outputs = np.array([[0], [0], [0], [1], [1], [1]])\n",
    "\n",
    "# create NeuralNetwork class\n",
    "class NeuralNetwork:\n",
    "\n",
    "    # intialize variables in class\n",
    "    def __init__(self, inputs, outputs):\n",
    "        self.inputs  = inputs\n",
    "        self.outputs = outputs\n",
    "        # initialize weights as .50 for simplicity\n",
    "        self.weights = np.array([[.50], [.50], [.50]])\n",
    "        self.error_history = []\n",
    "        self.epoch_list = []\n",
    "\n",
    "    #activation function ==> S(x) = 1/1+e^(-x)\n",
    "    def sigmoid(self, x, deriv=False):\n",
    "        if deriv == True:\n",
    "            return x * (1 - x)\n",
    "        return 1 / (1 + np.exp(-x))\n",
    "\n",
    "    # data will flow through the neural network.\n",
    "    def feed_forward(self):\n",
    "        self.hidden = self.sigmoid(np.dot(self.inputs, self.weights))\n",
    "\n",
    "    # going backwards through the network to update weights\n",
    "    def backpropagation(self):\n",
    "        self.error  = self.outputs - self.hidden\n",
    "        delta = self.error * self.sigmoid(self.hidden, deriv=True)\n",
    "        self.weights += np.dot(self.inputs.T, delta)\n",
    "\n",
    "    # train the neural net for 25,000 iterations\n",
    "    def train(self, epochs=25000):\n",
    "        for epoch in range(epochs):\n",
    "            # flow forward and produce an output\n",
    "            self.feed_forward()\n",
    "            # go back though the network to make corrections based on the output\n",
    "            self.backpropagation()    \n",
    "            # keep track of the error history over each epoch\n",
    "            self.error_history.append(np.average(np.abs(self.error)))\n",
    "            self.epoch_list.append(epoch)\n",
    "\n",
    "    # function to predict output on new and unseen input data                               \n",
    "    def predict(self, new_input):\n",
    "        prediction = self.sigmoid(np.dot(new_input, self.weights))\n",
    "        return prediction\n",
    "\n",
    "# create neural network   \n",
    "NN = NeuralNetwork(inputs, outputs)\n",
    "# train neural network\n",
    "NN.train()\n",
    "\n",
    "# create two new examples to predict                                   \n",
    "example = np.array([[1, 1, 0]])\n",
    "example_2 = np.array([[0, 1, 1]])\n",
    "\n",
    "# print the predictions for both examples                                   \n",
    "print(NN.predict(example), ' - Correct: ', example[0][0])\n",
    "print(NN.predict(example_2), ' - Correct: ', example_2[0][0])\n",
    "\n",
    "# plot the error over the entire training duration\n",
    "plt.figure(figsize=(15,5))\n",
    "plt.plot(NN.epoch_list, NN.error_history)\n",
    "plt.xlabel('Epoch')\n",
    "plt.ylabel('Error')\n",
    "plt.show()"
   ],
   "outputs": [
    {
     "output_type": "stream",
     "name": "stdout",
     "text": [
      "[[0.99089925]]  - Correct:  1\n",
      "[[0.006409]]  - Correct:  0\n"
     ]
    },
    {
     "output_type": "display_data",
     "data": {
      "text/plain": [
       "<Figure size 1080x360 with 1 Axes>"
      ],
      "image/png": "[encoded data removed]"
     },
     "metadata": {
      "needs_background": "light"
     }
    }
   ],
   "metadata": {}
  }
 ],
 "metadata": {
  "orig_nbformat": 4,
  "language_info": {
   "name": "python"
  }
 },
 "nbformat": 4,
 "nbformat_minor": 2
}