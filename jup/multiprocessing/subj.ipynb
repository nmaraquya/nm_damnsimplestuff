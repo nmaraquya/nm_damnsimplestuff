{
 "cells": [
  {
   "cell_type": "markdown",
   "source": [
    "# one- vs multi-threading\n",
    "In some cases instead of making a single thread python program you can use paralleling and speed it up  \n",
    "Below is a damn simple programm that demonstrates a simple multrithreading app. Lets assume we have some simple task (def doTask()) and we have to launch it N times in a row (amountOftasks). In this task we have random time insleep that represents some work done or waiting a response from somewhere. Lets first launch it in a single thread one by one and then launch them via multithreading lib nad compare time difference!"
   ],
   "metadata": {}
  },
  {
   "cell_type": "code",
   "execution_count": 40,
   "source": [
    "import threading\n",
    "import multiprocessing\n",
    "import time\n",
    "import random\n",
    "\n",
    "amountOftasks = 5\n",
    "\n",
    "def doTask(n):\n",
    "    sleeptime = round(random.randint(1e4,1e5)/1e4,1)\n",
    "    time.sleep(sleeptime)\n",
    "    print(\"Job {0} done after {1} seconds at {2}, spent so far {3} seconds.\".format(n,sleeptime,time.asctime().split(\" \")[3],round(time.time()-startedAt,2)))\n",
    "\n",
    "startedAt = time.time()\n",
    "print(\"Start {0} tasks one-by-one in a row at {1}.\".format(amountOftasks,time.asctime().split(\" \")[3]))\n",
    "for i in range(amountOftasks): \n",
    "    doTask(i)\n",
    "\n",
    "startedAt = time.time()\n",
    "print(\"Start {0} tasks in multithreading at {1}.\".format(amountOftasks,time.asctime().split(\" \")[3]))\n",
    "for i in range(amountOftasks): \n",
    "    threading.Thread(target=doTask, args=(i,)).start()\n"
   ],
   "outputs": [
    {
     "output_type": "stream",
     "name": "stdout",
     "text": [
      "Start 5 tasks one-by-one in a row at 01:42:30.\n",
      "Job 0 done after 5.2 seconds at 01:42:35, spent so far 5.2 seconds.\n",
      "Job 1 done after 2.0 seconds at 01:42:37, spent so far 7.21 seconds.\n",
      "Job 2 done after 2.1 seconds at 01:42:39, spent so far 9.31 seconds.\n",
      "Job 3 done after 6.7 seconds at 01:42:46, spent so far 16.01 seconds.\n",
      "Job 4 done after 9.2 seconds at 01:42:55, spent so far 25.22 seconds.\n",
      "Start 5 tasks in multithreading at 01:42:55.\n"
     ]
    }
   ],
   "metadata": {}
  },
  {
   "cell_type": "markdown",
   "source": [
    "# multithreading is much faster\n",
    "Yes, in some cases you can significantly speedup your program computing tasks in parallel. Lets rewrite it with more control over threads:"
   ],
   "metadata": {}
  },
  {
   "cell_type": "code",
   "execution_count": 41,
   "source": [
    "threads = []\n",
    "for i in range(amountOftasks):\n",
    "    t = threading.Thread(target=doTask, args=(i,))\n",
    "    threads.append(t)\n",
    "    t.start()\n",
    "\n",
    "# .join() method blocks main thread until this tread would not be killed\n",
    "\n",
    "startedAt = time.time()\n",
    "print(\"Start {0} tasks in multithreading at {1}.\".format(amountOftasks,time.asctime().split(\" \")[3]))\n",
    "for one_thread in threads:\n",
    "     # stdout also blocked here because it is controlled by main thread\n",
    "    print(\".join() thread {0} after {1} seconds.\".format(str(one_thread),round(time.time()-startedAt,1)))\n",
    "    one_thread.join()\n",
    "\n",
    "print(\"All tasks are done at {0} seconds.\".format(round(time.time()-startedAt,1)))"
   ],
   "outputs": [
    {
     "output_type": "stream",
     "name": "stdout",
     "text": [
      "Start 5 tasks in multithreading at 01:42:55.\n",
      ".join() thread <Thread(Thread-59, started 140426591577664)> after 0.0 seconds.\n",
      "Job 1 done after 1.7 seconds at 01:42:57, spent so far 1.66 seconds.\n",
      "Job 0 done after 2.2 seconds at 01:42:57, spent so far 2.2 seconds.\n",
      ".join() thread <Thread(Thread-60, started 140426027722304)> after 2.2 seconds.\n",
      "Job 2 done after 3.2 seconds at 01:42:58, spent so far 3.16 seconds.\n",
      "Job 4 done after 4.7 seconds at 01:43:00, spent so far 4.7 seconds.\n",
      "Job 4 done after 5.6 seconds at 01:43:01, spent so far 5.56 seconds.\n",
      "Job 2 done after 7.0 seconds at 01:43:02, spent so far 7.0 seconds.\n",
      "Job 3 done after 7.4 seconds at 01:43:02, spent so far 7.36 seconds.\n",
      "Job 0 done after 7.6 seconds at 01:43:03, spent so far 7.56 seconds.\n",
      "Job 3 done after 8.6 seconds at 01:43:04, spent so far 8.61 seconds.\n",
      "Job 1 done after 8.7 seconds at 01:43:04, spent so far 8.71 seconds.\n",
      ".join() thread <Thread(Thread-61, stopped 140426019329600)> after 8.7 seconds.\n",
      ".join() thread <Thread(Thread-62, stopped 140426010936896)> after 8.7 seconds.\n",
      ".join() thread <Thread(Thread-63, stopped 140426002544192)> after 8.7 seconds.\n",
      "All tasks are done at 8.7 seconds.\n"
     ]
    }
   ],
   "metadata": {}
  },
  {
   "cell_type": "markdown",
   "source": [
    "# multiprocessing or multithreading!\n",
    "lets do the same in multiprocessing instead of multithreading. btw both libraries have very similar sintax"
   ],
   "metadata": {}
  },
  {
   "cell_type": "code",
   "execution_count": 42,
   "source": [
    "\n",
    "startedAt = time.time()\n",
    "processes = [ ]\n",
    "for i in range(amountOftasks):\n",
    "    t = multiprocessing.Process(target=doTask, args=(i,))\n",
    "    processes.append(t)\n",
    "    t.start()\n",
    "\n",
    "startedAt = time.time()\n",
    "print(\"Start {0} tasks in multiprocessing at {1}.\".format(amountOftasks,time.asctime().split(\" \")[3]))\n",
    "for one_process in processes:\n",
    "    print(\".join() Process {0} after {1} seconds.\".format(str(one_process),round(time.time()-startedAt,1)))\n",
    "    one_process.join()\n",
    "\n",
    "print(\"All tasks are done in {0} seconds.\".format(round(time.time()-startedAt,1)))"
   ],
   "outputs": [
    {
     "output_type": "stream",
     "name": "stdout",
     "text": [
      "Start 5 tasks in multiprocessing at 01:43:04.\n",
      ".join() Process <Process name='Process-36' pid=50261 parent=47625 started> after 0.0 seconds.\n",
      "Job 2 done after 1.7 seconds at 01:43:05, spent so far 1.71 seconds.\n",
      "Job 1 done after 2.2 seconds at 01:43:06, spent so far 2.21 seconds.\n",
      "Job 4 done after 3.8 seconds at 01:43:08, spent so far 3.82 seconds.\n",
      "Job 0 done after 4.8 seconds at 01:43:09, spent so far 4.81 seconds.\n",
      ".join() Process <Process name='Process-37' pid=50262 parent=47625 stopped exitcode=0> after 4.8 seconds.\n",
      ".join() Process <Process name='Process-38' pid=50263 parent=47625 stopped exitcode=0> after 4.8 seconds.\n",
      ".join() Process <Process name='Process-39' pid=50264 parent=47625 started> after 4.8 seconds.\n",
      "Job 3 done after 8.1 seconds at 01:43:12, spent so far 8.12 seconds.\n",
      ".join() Process <Process name='Process-40' pid=50265 parent=47625 stopped exitcode=0> after 8.1 seconds.\n",
      "All tasks are done in 8.1 seconds.\n"
     ]
    }
   ],
   "metadata": {}
  },
  {
   "cell_type": "markdown",
   "source": [
    "# interprocess communications 1\n",
    "Any form of data exchange between processes is called interprocess communication. This can be done with shared memory by multiple processes or with data passing between them. Lets look first on memory sharing by a multithreading:"
   ],
   "metadata": {}
  },
  {
   "cell_type": "code",
   "execution_count": 43,
   "source": [
    "# some shared lins to be modifyed by several threads\n",
    "mylist = [ ]\n",
    "print(\"Shared list is now empty! len: {0}; content: {1}\".format(len(mylist),str(mylist)))\n",
    "def doTask(n):\n",
    "    sleeptime = round(random.randint(1e4,1e5)/1e4,1)\n",
    "    time.sleep(sleeptime)\n",
    "    mylist.append(threading.get_ident())   # race condition aware!\n",
    "    print(\"Job (add thread inent to shared list) {0} done after {1} seconds at {2}, spent so far {3} seconds.\".format(n,sleeptime,time.asctime().split(\" \")[3],round(time.time()-startedAt,2)))\n",
    "\n",
    "threads = []\n",
    "for i in range(amountOftasks):\n",
    "    t = threading.Thread(target=doTask, args=(i,))\n",
    "    threads.append(t)\n",
    "    t.start()\n",
    "\n",
    "startedAt = time.time()\n",
    "print(\"Start {0} tasks in multithreading at {1}.\".format(amountOftasks,time.asctime().split(\" \")[3]))\n",
    "for one_thread in threads:\n",
    "    print(\".join() thread {0} after {1} seconds.\".format(str(one_thread),round(time.time()-startedAt,1)))\n",
    "    one_thread.join()\n",
    "    \n",
    "print(\"All tasks are done in {0} seconds.\".format(round(time.time()-startedAt,1)))\n",
    "print(\"Shared list is not empty enymore! len: {0}; content: {1}\".format(len(mylist),str(mylist)))"
   ],
   "outputs": [
    {
     "output_type": "stream",
     "name": "stdout",
     "text": [
      "Shared list is now empty! len: 0; content: []\n",
      "Start 5 tasks in multithreading at 01:43:12.\n",
      ".join() thread <Thread(Thread-64, started 140426027722304)> after 0.0 seconds.\n",
      "Job (add thread inent to shared list) 1 done after 3.6 seconds at 01:43:16, spent so far 3.6 seconds.\n",
      "Job (add thread inent to shared list) 0 done after 3.8 seconds at 01:43:16, spent so far 3.8 seconds.\n",
      ".join() thread <Thread(Thread-65, stopped 140426010936896)> after 3.8 seconds.\n",
      ".join() thread <Thread(Thread-66, started 140425994151488)> after 3.8 seconds.\n",
      "Job (add thread inent to shared list) 3 done after 4.2 seconds at 01:43:16, spent so far 4.2 seconds.\n",
      "Job (add thread inent to shared list) 2 done after 5.2 seconds at 01:43:17, spent so far 5.2 seconds.\n",
      ".join() thread <Thread(Thread-67, stopped 140426036115008)> after 5.2 seconds.\n",
      ".join() thread <Thread(Thread-68, started 140426636949056)> after 5.2 seconds.\n",
      "Job (add thread inent to shared list) 4 done after 5.6 seconds at 01:43:18, spent so far 5.6 seconds.\n",
      "All tasks are done in 5.6 seconds.\n",
      "Shared list is not empty enymore! len: 5; content: [140426010936896, 140426027722304, 140426036115008, 140425994151488, 140426636949056]\n"
     ]
    }
   ],
   "metadata": {}
  },
  {
   "cell_type": "markdown",
   "source": [
    "# interprocess communications 2\n",
    "If we will do the same with multiprocessing, the result wont be the same, because multiprocessing dont use shared memory and global variable will be copied to memory of each process before it wil be changed and wont be rewritten after procccess will finish its job."
   ],
   "metadata": {}
  },
  {
   "cell_type": "code",
   "execution_count": 44,
   "source": [
    "\n",
    "mylist = [ ]\n",
    "print(\"Shared list is now empty! len: {0}; content: {1}\".format(len(mylist),str(mylist)))\n",
    "\n",
    "startedAt = time.time()\n",
    "processes = [ ]\n",
    "for i in range(amountOftasks):\n",
    "    t = multiprocessing.Process(target=doTask, args=(i,))\n",
    "    processes.append(t)\n",
    "    t.start()\n",
    "\n",
    "startedAt = time.time()\n",
    "print(\"Start {0} tasks in multiprocessing at {1}.\".format(amountOftasks,time.asctime().split(\" \")[3]))\n",
    "for one_process in processes:\n",
    "    print(\".join() Process {0} after {1} seconds.\".format(str(one_process),round(time.time()-startedAt,1)))\n",
    "    one_process.join()\n",
    "\n",
    "print(\"All tasks are done in {0} seconds.\".format(round(time.time()-startedAt,1)))\n",
    "print(\"Shared list is still empty, because we use multiprocessing! len: {0}; content: {1}\".format(len(mylist),str(mylist)))\n"
   ],
   "outputs": [
    {
     "output_type": "stream",
     "name": "stdout",
     "text": [
      "Shared list is now empty! len: 0; content: []\n",
      "Start 5 tasks in multiprocessing at 01:43:18.\n",
      ".join() Process <Process name='Process-41' pid=50294 parent=47625 started> after 0.0 seconds.\n",
      "Job (add thread inent to shared list) 0 done after 1.1 seconds at 01:43:19, spent so far 1.11 seconds.\n",
      ".join() Process <Process name='Process-42' pid=50295 parent=47625 started> after 1.1 seconds.\n",
      "Job (add thread inent to shared list) 4 done after 1.9 seconds at 01:43:19, spent so far 1.92 seconds.\n"
     ]
    }
   ],
   "metadata": {}
  },
  {
   "cell_type": "markdown",
   "source": [
    "# interprocess communications 3\n",
    "How to communicate between processes if we don't have an any shared memory? We can use fifo pipes between processes for this reason:"
   ],
   "metadata": {}
  },
  {
   "cell_type": "code",
   "execution_count": null,
   "source": [
    "q = multiprocessing.Queue()\n",
    "\n",
    "def doTask(n):\n",
    "    sleeptime = round(random.randint(1e4,1e5)/1e4,1)\n",
    "    time.sleep(sleeptime)\n",
    "#    mylist.append(threading.get_ident())   # race condition aware!\n",
    "    q.put(os.getpid())\n",
    "    print(\"Job (add thread inent to shared list) {0} done after {1} seconds at {2}, spent so far {3} seconds.\".format(n,sleeptime,time.asctime().split(\" \")[3],round(time.time()-startedAt,2)))\n",
    "\n",
    "mylist = [ ]\n",
    "print(\"Shared list is now empty! len: {0}; content: {1}\".format(len(mylist),str(mylist)))\n",
    "\n",
    "startedAt = time.time()\n",
    "processes = [ ]\n",
    "for i in range(amountOftasks):\n",
    "    t = multiprocessing.Process(target=doTask, args=(i,))\n",
    "    processes.append(t)\n",
    "    t.start()\n",
    "\n",
    "startedAt = time.time()\n",
    "print(\"Start {0} tasks in multiprocessing at {1}.\".format(amountOftasks,time.asctime().split(\" \")[3]))\n",
    "for one_process in processes:\n",
    "    print(\".join() Process {0} after {1} seconds.\".format(str(one_process),round(time.time()-startedAt,1)))\n",
    "    one_process.join()\n",
    "\n",
    "\n",
    "while not q.empty():\n",
    "    mylist.append(q.get())\n",
    "\n",
    "print(\"All tasks are done in {0} seconds.\".format(round(time.time()-startedAt,1)))\n",
    "print(\"Shared list is not empty now! len: {0}; content: {1}\".format(len(mylist),str(mylist)))\n"
   ],
   "outputs": [],
   "metadata": {}
  },
  {
   "cell_type": "markdown",
   "source": [
    "# daemon and non daemon processes 1:\n",
    "difference between daemon and non-daemon threads:\n",
    "* daemon thread can be killed at the end of the main thread before end of damon thread\n",
    "* non-daemon thread would make main thread to wait until non-daemon threads would end before exit() on main thread"
   ],
   "metadata": {}
  },
  {
   "cell_type": "code",
   "execution_count": null,
   "source": [
    "def doTask(n):\n",
    "\tprint(\"Job {0} started at {1}.\".format(n,time.asctime().split(\" \")[3]))\n",
    "\tsleeptime = round(random.randint(1e4,1e5)/1e4,1)\n",
    "\ttime.sleep(sleeptime)\n",
    "\tprint(\"Job {0} done after {1} seconds at {2}, spent so far {3} seconds.\".format(n,sleeptime,time.asctime().split(\" \")[3],round(time.time()-startedAt,2)))\n",
    "\n",
    "t = threading.Thread(name='non-daemon', target=doTask, args=('non-daemon',))\n",
    "d = threading.Thread(name='daemon', target=doTask, args=('daemon',))\n",
    "d.setDaemon(True)\n",
    "\n",
    "startedAt = time.time()\n",
    "d.start()\n",
    "t.start()\n",
    "\n"
   ],
   "outputs": [],
   "metadata": {}
  },
  {
   "cell_type": "markdown",
   "source": [
    "# daemon and non daemon processes 2: \n",
    "use .join() to wait until daemon thread would be ended"
   ],
   "metadata": {}
  },
  {
   "cell_type": "code",
   "execution_count": null,
   "source": [
    "t = threading.Thread(name='non-daemon', target=doTask, args=('non-daemon',))\n",
    "d = threading.Thread(name='daemon', target=doTask, args=('daemon',))\n",
    "d.setDaemon(True)\n",
    "\n",
    "d.start()\n",
    "t.start()\n",
    "\n",
    "d.join()\n",
    "t.join()\n"
   ],
   "outputs": [],
   "metadata": {}
  },
  {
   "cell_type": "markdown",
   "source": [
    "# exmpl\n",
    "see python/multiprocessing example provided, you can use it as a start point for the making an app"
   ],
   "metadata": {}
  }
 ],
 "metadata": {
  "orig_nbformat": 4,
  "language_info": {
   "name": "python"
  }
 },
 "nbformat": 4,
 "nbformat_minor": 2
}