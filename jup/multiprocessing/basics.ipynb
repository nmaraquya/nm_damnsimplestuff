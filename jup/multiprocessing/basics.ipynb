{
 "cells": [
  {
   "cell_type": "markdown",
   "source": [
    "# one- vs multi-threading\n",
    "In some cases instead of making a single thread python program you can use paralleling and speed it up  \n",
    "Below is a damn simple programm that demonstrates a simple multrithreading app. Lets assume we have some simple task (def doTask()) and we have to launch it N times in a row (amountOftasks). In this task we have random time insleep that represents some work done or waiting a response from somewhere. Lets first launch it in a single thread one by one and then launch them via multithreading lib nad compare time difference!"
   ],
   "metadata": {}
  },
  {
   "cell_type": "code",
   "execution_count": 1,
   "source": [
    "import threading\n",
    "import multiprocessing\n",
    "import time\n",
    "import random\n",
    "\n",
    "amountOftasks = 5\n",
    "\n",
    "def doTask(n):\n",
    "    sleeptime = round(random.randint(1e4,1e5)/1e4,1)\n",
    "    time.sleep(sleeptime)\n",
    "    print(\"Job {0} done after {1} seconds at {2}, spent so far {3} seconds.\".format(n,sleeptime,time.asctime().split(\" \")[3],round(time.time()-startedAt,2)))\n",
    "\n",
    "startedAt = time.time()\n",
    "print(\"Start {0} tasks one-by-one in a row at {1}.\".format(amountOftasks,time.asctime().split(\" \")[3]))\n",
    "for i in range(amountOftasks): \n",
    "    doTask(i)\n",
    "\n",
    "startedAt = time.time()\n",
    "print(\"Start {0} tasks in multithreading at {1}.\".format(amountOftasks,time.asctime().split(\" \")[3]))\n",
    "for i in range(amountOftasks): \n",
    "    threading.Thread(target=doTask, args=(i,)).start()\n"
   ],
   "outputs": [
    {
     "output_type": "stream",
     "name": "stdout",
     "text": [
      "Start 5 tasks one-by-one in a row at 01:44:48.\n",
      "Job 0 done after 7.5 seconds at 01:44:55, spent so far 7.51 seconds.\n",
      "Job 1 done after 1.6 seconds at 01:44:57, spent so far 9.11 seconds.\n",
      "Job 2 done after 9.4 seconds at 01:45:06, spent so far 18.51 seconds.\n",
      "Job 3 done after 6.0 seconds at 01:45:12, spent so far 24.52 seconds.\n",
      "Job 4 done after 1.4 seconds at 01:45:14, spent so far 25.92 seconds.\n",
      "Start 5 tasks in multithreading at 01:45:14.\n"
     ]
    }
   ],
   "metadata": {}
  },
  {
   "cell_type": "markdown",
   "source": [
    "# multithreading is much faster\n",
    "Yes, in some cases you can significantly speedup your program computing tasks in parallel. Lets rewrite it with more control over threads:"
   ],
   "metadata": {}
  },
  {
   "cell_type": "code",
   "execution_count": 2,
   "source": [
    "threads = []\n",
    "for i in range(amountOftasks):\n",
    "    t = threading.Thread(target=doTask, args=(i,))\n",
    "    threads.append(t)\n",
    "    t.start()\n",
    "\n",
    "# .join() method blocks main thread until this tread would not be killed\n",
    "\n",
    "startedAt = time.time()\n",
    "print(\"Start {0} tasks in multithreading at {1}.\".format(amountOftasks,time.asctime().split(\" \")[3]))\n",
    "for one_thread in threads:\n",
    "     # stdout also blocked here because it is controlled by main thread\n",
    "    print(\".join() thread {0} after {1} seconds.\".format(str(one_thread),round(time.time()-startedAt,1)))\n",
    "    one_thread.join()\n",
    "\n",
    "print(\"All tasks are done at {0} seconds.\".format(round(time.time()-startedAt,1)))"
   ],
   "outputs": [
    {
     "output_type": "stream",
     "name": "stdout",
     "text": [
      "Start 5 tasks in multithreading at 01:45:14.\n",
      ".join() thread <Thread(Thread-9, started 139640744941120)> after 0.0 seconds.\n",
      "Job 3 done after 1.2 seconds at 01:45:15, spent so far 1.15 seconds.\n",
      "Job 4 done after 1.5 seconds at 01:45:15, spent so far 1.45 seconds.\n",
      "Job 2 done after 3.2 seconds at 01:45:17, spent so far 3.15 seconds.\n",
      "Job 4 done after 4.4 seconds at 01:45:18, spent so far 4.4 seconds.\n",
      "Job 1 done after 6.2 seconds at 01:45:20, spent so far 6.15 seconds.\n",
      "Job 0 done after 7.8 seconds at 01:45:21, spent so far 7.8 seconds.\n",
      ".join() thread <Thread(Thread-10, started 139640258426432)> after 7.8 seconds.\n",
      "Job 1 done after 8.0 seconds at 01:45:22, spent so far 8.0 seconds.\n",
      ".join() thread <Thread(Thread-11, started 139640250033728)> after 8.0 seconds.\n",
      "Job 3 done after 8.2 seconds at 01:45:22, spent so far 8.21 seconds.\n",
      "Job 0 done after 8.9 seconds at 01:45:22, spent so far 8.85 seconds.\n",
      "Job 2 done after 9.0 seconds at 01:45:23, spent so far 9.01 seconds.\n",
      ".join() thread <Thread(Thread-12, stopped 139640241641024)> after 9.0 seconds.\n",
      ".join() thread <Thread(Thread-13, stopped 139640233248320)> after 9.0 seconds.\n",
      "All tasks are done at 9.0 seconds.\n"
     ]
    }
   ],
   "metadata": {}
  },
  {
   "cell_type": "markdown",
   "source": [
    "# multiprocessing or multithreading!\n",
    "lets do the same in multiprocessing instead of multithreading. btw both libraries have very similar sintax"
   ],
   "metadata": {}
  },
  {
   "cell_type": "code",
   "execution_count": 3,
   "source": [
    "\n",
    "startedAt = time.time()\n",
    "processes = [ ]\n",
    "for i in range(amountOftasks):\n",
    "    t = multiprocessing.Process(target=doTask, args=(i,))\n",
    "    processes.append(t)\n",
    "    t.start()\n",
    "\n",
    "startedAt = time.time()\n",
    "print(\"Start {0} tasks in multiprocessing at {1}.\".format(amountOftasks,time.asctime().split(\" \")[3]))\n",
    "for one_process in processes:\n",
    "    print(\".join() Process {0} after {1} seconds.\".format(str(one_process),round(time.time()-startedAt,1)))\n",
    "    one_process.join()\n",
    "\n",
    "print(\"All tasks are done in {0} seconds.\".format(round(time.time()-startedAt,1)))"
   ],
   "outputs": [
    {
     "output_type": "stream",
     "name": "stdout",
     "text": [
      "Start 5 tasks in multiprocessing at 01:45:23.\n",
      ".join() Process <Process name='Process-1' pid=50742 parent=50547 started> after 0.0 seconds.\n",
      "Job 1 done after 4.0 seconds at 01:45:27, spent so far 4.01 seconds.\n",
      "Job 0 done after 8.7 seconds at 01:45:31, spent so far 8.71 seconds.\n",
      "Job 4 done after 8.8 seconds at 01:45:31, spent so far 8.82 seconds.\n",
      ".join() Process <Process name='Process-2' pid=50743 parent=50547 stopped exitcode=0> after 8.7 seconds.\n",
      ".join() Process <Process name='Process-3' pid=50744 parent=50547 started> after 8.7 seconds.\n",
      "Job 3 done after 9.5 seconds at 01:45:32, spent so far 9.52 seconds.\n",
      "Job 2 done after 9.7 seconds at 01:45:32, spent so far 9.72 seconds.\n",
      ".join() Process <Process name='Process-4' pid=50745 parent=50547 stopped exitcode=0> after 9.7 seconds.\n",
      ".join() Process <Process name='Process-5' pid=50746 parent=50547 stopped exitcode=0> after 9.7 seconds.\n",
      "All tasks are done in 9.7 seconds.\n"
     ]
    }
   ],
   "metadata": {}
  },
  {
   "cell_type": "markdown",
   "source": [
    "# interprocess communications 1\n",
    "Any form of data exchange between processes is called interprocess communication. This can be done with shared memory by multiple processes or with data passing between them. Lets look first on memory sharing by a multithreading:"
   ],
   "metadata": {}
  },
  {
   "cell_type": "code",
   "execution_count": 4,
   "source": [
    "# some shared lins to be modifyed by several threads\n",
    "mylist = [ ]\n",
    "print(\"Shared list is now empty! len: {0}; content: {1}\".format(len(mylist),str(mylist)))\n",
    "def doTask(n):\n",
    "    sleeptime = round(random.randint(1e4,1e5)/1e4,1)\n",
    "    time.sleep(sleeptime)\n",
    "    mylist.append(threading.get_ident())   # race condition aware!\n",
    "    print(\"Job (add thread inent to shared list) {0} done after {1} seconds at {2}, spent so far {3} seconds.\".format(n,sleeptime,time.asctime().split(\" \")[3],round(time.time()-startedAt,2)))\n",
    "\n",
    "threads = []\n",
    "for i in range(amountOftasks):\n",
    "    t = threading.Thread(target=doTask, args=(i,))\n",
    "    threads.append(t)\n",
    "    t.start()\n",
    "\n",
    "startedAt = time.time()\n",
    "print(\"Start {0} tasks in multithreading at {1}.\".format(amountOftasks,time.asctime().split(\" \")[3]))\n",
    "for one_thread in threads:\n",
    "    print(\".join() thread {0} after {1} seconds.\".format(str(one_thread),round(time.time()-startedAt,1)))\n",
    "    one_thread.join()\n",
    "    \n",
    "print(\"All tasks are done in {0} seconds.\".format(round(time.time()-startedAt,1)))\n",
    "print(\"Shared list is not empty enymore! len: {0}; content: {1}\".format(len(mylist),str(mylist)))"
   ],
   "outputs": [
    {
     "output_type": "stream",
     "name": "stdout",
     "text": [
      "Shared list is now empty! len: 0; content: []\n",
      "Start 5 tasks in multithreading at 01:45:32.\n",
      ".join() thread <Thread(Thread-14, started 139640250033728)> after 0.0 seconds.\n",
      "Job (add thread inent to shared list) 1 done after 4.1 seconds at 01:45:36, spent so far 4.1 seconds.\n",
      "Job (add thread inent to shared list) 2 done after 4.3 seconds at 01:45:37, spent so far 4.3 seconds.\n",
      "Job (add thread inent to shared list) 0 done after 6.5 seconds at 01:45:39, spent so far 6.5 seconds.\n",
      ".join() thread <Thread(Thread-15, stopped 139640786904640)> after 6.5 seconds.\n",
      ".join() thread <Thread(Thread-16, stopped 139640241641024)> after 6.5 seconds.\n",
      ".join() thread <Thread(Thread-17, started 139640258426432)> after 6.5 seconds.\n",
      "Job (add thread inent to shared list) 3 done after 9.0 seconds at 01:45:41, spent so far 9.01 seconds.\n",
      ".join() thread <Thread(Thread-18, started 139640778511936)> after 9.0 seconds.\n",
      "Job (add thread inent to shared list) 4 done after 9.7 seconds at 01:45:42, spent so far 9.71 seconds.\n",
      "All tasks are done in 9.7 seconds.\n",
      "Shared list is not empty enymore! len: 5; content: [139640786904640, 139640241641024, 139640250033728, 139640258426432, 139640778511936]\n"
     ]
    }
   ],
   "metadata": {}
  },
  {
   "cell_type": "markdown",
   "source": [
    "# interprocess communications 2\n",
    "If we will do the same with multiprocessing, the result wont be the same, because multiprocessing dont use shared memory and global variable will be copied to memory of each process before it wil be changed and wont be rewritten after procccess will finish its job."
   ],
   "metadata": {}
  },
  {
   "cell_type": "code",
   "execution_count": 5,
   "source": [
    "\n",
    "mylist = [ ]\n",
    "print(\"Shared list is now empty! len: {0}; content: {1}\".format(len(mylist),str(mylist)))\n",
    "\n",
    "startedAt = time.time()\n",
    "processes = [ ]\n",
    "for i in range(amountOftasks):\n",
    "    t = multiprocessing.Process(target=doTask, args=(i,))\n",
    "    processes.append(t)\n",
    "    t.start()\n",
    "\n",
    "startedAt = time.time()\n",
    "print(\"Start {0} tasks in multiprocessing at {1}.\".format(amountOftasks,time.asctime().split(\" \")[3]))\n",
    "for one_process in processes:\n",
    "    print(\".join() Process {0} after {1} seconds.\".format(str(one_process),round(time.time()-startedAt,1)))\n",
    "    one_process.join()\n",
    "\n",
    "print(\"All tasks are done in {0} seconds.\".format(round(time.time()-startedAt,1)))\n",
    "print(\"Shared list is still empty, because we use multiprocessing! len: {0}; content: {1}\".format(len(mylist),str(mylist)))\n"
   ],
   "outputs": [
    {
     "output_type": "stream",
     "name": "stdout",
     "text": [
      "Shared list is now empty! len: 0; content: []\n",
      "Start 5 tasks in multiprocessing at 01:45:42.\n",
      ".join() Process <Process name='Process-6' pid=50778 parent=50547 started> after 0.0 seconds.\n",
      "Job (add thread inent to shared list) 2 done after 3.9 seconds at 01:45:46, spent so far 3.91 seconds.\n",
      "Job (add thread inent to shared list) 3 done after 5.0 seconds at 01:45:47, spent so far 5.02 seconds.\n",
      "Job (add thread inent to shared list) 0 done after 5.4 seconds at 01:45:48, spent so far 5.41 seconds.\n",
      ".join() Process <Process name='Process-7' pid=50779 parent=50547 started> after 5.4 seconds.\n",
      "Job (add thread inent to shared list) 4 done after 6.0 seconds at 01:45:48, spent so far 6.02 seconds.\n",
      "Job (add thread inent to shared list) 1 done after 6.7 seconds at 01:45:49, spent so far 6.71 seconds.\n",
      ".join() Process <Process name='Process-8' pid=50780 parent=50547 stopped exitcode=0> after 6.7 seconds.\n",
      ".join() Process <Process name='Process-9' pid=50781 parent=50547 stopped exitcode=0> after 6.7 seconds.\n",
      ".join() Process <Process name='Process-10' pid=50782 parent=50547 stopped exitcode=0> after 6.7 seconds.\n",
      "All tasks are done in 6.7 seconds.\n",
      "Shared list is still empty, because we use multiprocessing! len: 0; content: []\n"
     ]
    }
   ],
   "metadata": {}
  },
  {
   "cell_type": "markdown",
   "source": [
    "# interprocess communications 3\n",
    "How to communicate between processes if we don't have an any shared memory? We can use fifo pipes between processes for this reason:"
   ],
   "metadata": {}
  },
  {
   "cell_type": "code",
   "execution_count": 9,
   "source": [
    "q = multiprocessing.Queue()\n",
    "\n",
    "def doTask(n):\n",
    "    sleeptime = round(random.randint(1e4,1e5)/1e4,1)\n",
    "    time.sleep(sleeptime)\n",
    "#    mylist.append(threading.get_ident())   # race condition aware!\n",
    "    q.put(os.getpid())\n",
    "    print(\"Job (add thread inent to shared list) {0} done after {1} seconds at {2}, spent so far {3} seconds.\".format(n,sleeptime,time.asctime().split(\" \")[3],round(time.time()-startedAt,2)))\n",
    "\n",
    "mylist = [ ]\n",
    "print(\"Shared list is now empty! len: {0}; content: {1}\".format(len(mylist),str(mylist)))\n",
    "\n",
    "startedAt = time.time()\n",
    "processes = [ ]\n",
    "for i in range(amountOftasks):\n",
    "    t = multiprocessing.Process(target=doTask, args=(i,))\n",
    "    processes.append(t)\n",
    "    t.start()\n",
    "\n",
    "startedAt = time.time()\n",
    "print(\"Start {0} tasks in multiprocessing at {1}.\".format(amountOftasks,time.asctime().split(\" \")[3]))\n",
    "for one_process in processes:\n",
    "    print(\".join() Process {0} after {1} seconds.\".format(str(one_process),round(time.time()-startedAt,1)))\n",
    "    one_process.join()\n",
    "\n",
    "\n",
    "while not q.empty():\n",
    "    mylist.append(q.get())\n",
    "\n",
    "print(\"All tasks are done in {0} seconds.\".format(round(time.time()-startedAt,1)))\n",
    "print(\"Shared list is not empty now! len: {0}; content: {1}\".format(len(mylist),str(mylist)))\n"
   ],
   "outputs": [
    {
     "output_type": "stream",
     "name": "stdout",
     "text": [
      "Shared list is now empty! len: 0; content: []\n",
      "Start 5 tasks in multiprocessing at 01:46:23.\n",
      ".join() Process <Process name='Process-16' pid=50844 parent=50547 started> after 0.0 seconds.\n",
      "Job (add thread inent to shared list) 3 done after 1.2 seconds at 01:46:24, spent so far 1.22 seconds.\n",
      "Job (add thread inent to shared list) 0 done after 3.0 seconds at 01:46:26, spent so far 3.01 seconds.\n",
      ".join() Process <Process name='Process-17' pid=50845 parent=50547 started> after 3.0 seconds.\n",
      "Job (add thread inent to shared list) 2 done after 4.2 seconds at 01:46:27, spent so far 4.22 seconds.\n",
      "Job (add thread inent to shared list) 4 done after 7.1 seconds at 01:46:30, spent so far 7.13 seconds.\n",
      "Job (add thread inent to shared list) 1 done after 8.6 seconds at 01:46:31, spent so far 8.62 seconds.\n",
      ".join() Process <Process name='Process-18' pid=50846 parent=50547 stopped exitcode=0> after 8.6 seconds.\n",
      ".join() Process <Process name='Process-19' pid=50847 parent=50547 stopped exitcode=0> after 8.6 seconds.\n",
      ".join() Process <Process name='Process-20' pid=50848 parent=50547 stopped exitcode=0> after 8.6 seconds.\n",
      "All tasks are done in 8.6 seconds.\n",
      "Shared list is not empty now! len: 5; content: [50847, 50844, 50846, 50848, 50845]\n"
     ]
    }
   ],
   "metadata": {}
  },
  {
   "cell_type": "markdown",
   "source": [
    "# daemon and non daemon processes 1:\n",
    "difference between daemon and non-daemon threads:\n",
    "* daemon thread can be killed at the end of the main thread before end of damon thread\n",
    "* non-daemon thread would make main thread to wait until non-daemon threads would end before exit() on main thread"
   ],
   "metadata": {}
  },
  {
   "cell_type": "code",
   "execution_count": 10,
   "source": [
    "def doTask(n):\n",
    "\tprint(\"Job {0} started at {1}.\".format(n,time.asctime().split(\" \")[3]))\n",
    "\tsleeptime = round(random.randint(1e4,1e5)/1e4,1)\n",
    "\ttime.sleep(sleeptime)\n",
    "\tprint(\"Job {0} done after {1} seconds at {2}, spent so far {3} seconds.\".format(n,sleeptime,time.asctime().split(\" \")[3],round(time.time()-startedAt,2)))\n",
    "\n",
    "t = threading.Thread(name='non-daemon', target=doTask, args=('non-daemon',))\n",
    "d = threading.Thread(name='daemon', target=doTask, args=('daemon',))\n",
    "d.setDaemon(True)\n",
    "\n",
    "startedAt = time.time()\n",
    "d.start()\n",
    "t.start()\n",
    "\n"
   ],
   "outputs": [
    {
     "output_type": "stream",
     "name": "stdout",
     "text": [
      "Job daemon started at 01:46:31.\n",
      "Job non-daemon started at 01:46:31.\n"
     ]
    }
   ],
   "metadata": {}
  },
  {
   "cell_type": "markdown",
   "source": [
    "# daemon and non daemon processes 2: \n",
    "use .join() to wait until daemon thread would be ended"
   ],
   "metadata": {}
  },
  {
   "cell_type": "code",
   "execution_count": 11,
   "source": [
    "t = threading.Thread(name='non-daemon', target=doTask, args=('non-daemon',))\n",
    "d = threading.Thread(name='daemon', target=doTask, args=('daemon',))\n",
    "d.setDaemon(True)\n",
    "\n",
    "d.start()\n",
    "t.start()\n",
    "\n",
    "d.join()\n",
    "t.join()\n"
   ],
   "outputs": [
    {
     "output_type": "stream",
     "name": "stdout",
     "text": [
      "Job daemon started at 01:46:31.\n",
      "Job non-daemon started at 01:46:31.\n",
      "Job non-daemon done after 3.8 seconds at 01:46:35, spent so far 3.86 seconds.\n",
      "Job daemon done after 4.8 seconds at 01:46:36, spent so far 4.8 seconds.\n",
      "Job daemon done after 6.5 seconds at 01:46:38, spent so far 6.56 seconds.\n",
      "Job non-daemon done after 7.3 seconds at 01:46:39, spent so far 7.31 seconds.\n"
     ]
    }
   ],
   "metadata": {}
  },
  {
   "cell_type": "markdown",
   "source": [
    "# exmpl\n",
    "see python/multiprocessing example provided, you can use it as a start point for the making an app"
   ],
   "metadata": {}
  }
 ],
 "metadata": {
  "orig_nbformat": 4,
  "language_info": {
   "name": "python"
  }
 },
 "nbformat": 4,
 "nbformat_minor": 2
}