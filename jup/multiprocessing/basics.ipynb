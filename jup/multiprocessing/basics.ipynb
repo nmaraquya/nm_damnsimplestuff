{
 "cells": [
  {
   "cell_type": "markdown",
   "metadata": {},
   "source": [
    "# one- vs multi-threading\n",
    "In some cases instead of making a single thread python program you can use paralleling and speed it up  \n",
    "Below is a damn simple programm that demonstrates a simple multrithreading app. Lets assume we have some simple task (def doTask()) and we have to launch it N times in a row (amountOftasks). In this task we have random time insleep that represents some work done or waiting a response from somewhere. Lets first launch it in a single thread one by one and then launch them via multithreading lib nad compare time difference!"
   ]
  },
  {
   "cell_type": "code",
   "execution_count": 1,
   "metadata": {},
   "outputs": [
    {
     "name": "stdout",
     "output_type": "stream",
     "text": [
      "Start 5 tasks one-by-one in a row at 01:44:48.\n",
      "Job 0 done after 7.5 seconds at 01:44:55, spent so far 7.51 seconds.\n",
      "Job 1 done after 1.6 seconds at 01:44:57, spent so far 9.11 seconds.\n",
      "Job 2 done after 9.4 seconds at 01:45:06, spent so far 18.51 seconds.\n",
      "Job 3 done after 6.0 seconds at 01:45:12, spent so far 24.52 seconds.\n",
      "Job 4 done after 1.4 seconds at 01:45:14, spent so far 25.92 seconds.\n",
      "Start 5 tasks in multithreading at 01:45:14.\n"
     ]
    }
   ],
   "source": [
    "import threading\n",
    "import multiprocessing\n",
    "import time\n",
    "import random\n",
    "\n",
    "amountOftasks = 5\n",
    "\n",
    "def doTask(n):\n",
    "    sleeptime = round(random.randint(1e4,1e5)/1e4,1)\n",
    "    time.sleep(sleeptime)\n",
    "    print(\"Job {0} done after {1} seconds at {2}, spent so far {3} seconds.\".format(n,sleeptime,time.asctime().split(\" \")[3],round(time.time()-startedAt,2)))\n",
    "\n",
    "startedAt = time.time()\n",
    "print(\"Start {0} tasks one-by-one in a row at {1}.\".format(amountOftasks,time.asctime().split(\" \")[3]))\n",
    "for i in range(amountOftasks): \n",
    "    doTask(i)\n",
    "\n",
    "startedAt = time.time()\n",
    "print(\"Start {0} tasks in multithreading at {1}.\".format(amountOftasks,time.asctime().split(\" \")[3]))\n",
    "for i in range(amountOftasks): \n",
    "    threading.Thread(target=doTask, args=(i,)).start()\n"
   ]
  },
  {
   "cell_type": "markdown",
   "metadata": {},
   "source": [
    "# multithreading is much faster\n",
    "Yes, in some cases you can significantly speedup your program computing tasks in parallel. Lets rewrite it with more control over threads:"
   ]
  },
  {
   "cell_type": "code",
   "execution_count": 2,
   "metadata": {},
   "outputs": [
    {
     "name": "stdout",
     "output_type": "stream",
     "text": [
      "Start 5 tasks in multithreading at 01:45:14.\n",
      ".join() thread <Thread(Thread-9, started 139640744941120)> after 0.0 seconds.\n",
      "Job 3 done after 1.2 seconds at 01:45:15, spent so far 1.15 seconds.\n",
      "Job 4 done after 1.5 seconds at 01:45:15, spent so far 1.45 seconds.\n",
      "Job 2 done after 3.2 seconds at 01:45:17, spent so far 3.15 seconds.\n",
      "Job 4 done after 4.4 seconds at 01:45:18, spent so far 4.4 seconds.\n",
      "Job 1 done after 6.2 seconds at 01:45:20, spent so far 6.15 seconds.\n",
      "Job 0 done after 7.8 seconds at 01:45:21, spent so far 7.8 seconds.\n",
      ".join() thread <Thread(Thread-10, started 139640258426432)> after 7.8 seconds.\n",
      "Job 1 done after 8.0 seconds at 01:45:22, spent so far 8.0 seconds.\n",
      ".join() thread <Thread(Thread-11, started 139640250033728)> after 8.0 seconds.\n",
      "Job 3 done after 8.2 seconds at 01:45:22, spent so far 8.21 seconds.\n",
      "Job 0 done after 8.9 seconds at 01:45:22, spent so far 8.85 seconds.\n",
      "Job 2 done after 9.0 seconds at 01:45:23, spent so far 9.01 seconds.\n",
      ".join() thread <Thread(Thread-12, stopped 139640241641024)> after 9.0 seconds.\n",
      ".join() thread <Thread(Thread-13, stopped 139640233248320)> after 9.0 seconds.\n",
      "All tasks are done at 9.0 seconds.\n"
     ]
    }
   ],
   "source": [
    "threads = []\n",
    "for i in range(amountOftasks):\n",
    "    t = threading.Thread(target=doTask, args=(i,))\n",
    "    threads.append(t)\n",
    "    t.start()\n",
    "\n",
    "# .join() method blocks main thread until this tread would not be killed\n",
    "\n",
    "startedAt = time.time()\n",
    "print(\"Start {0} tasks in multithreading at {1}.\".format(amountOftasks,time.asctime().split(\" \")[3]))\n",
    "for one_thread in threads:\n",
    "     # stdout also blocked here because it is controlled by main thread\n",
    "    print(\".join() thread {0} after {1} seconds.\".format(str(one_thread),round(time.time()-startedAt,1)))\n",
    "    one_thread.join()\n",
    "\n",
    "print(\"All tasks are done at {0} seconds.\".format(round(time.time()-startedAt,1)))"
   ]
  },
  {
   "cell_type": "markdown",
   "metadata": {},
   "source": [
    "# multiprocessing or multithreading!\n",
    "lets do the same in multiprocessing instead of multithreading. btw both libraries have very similar sintax"
   ]
  },
  {
   "cell_type": "code",
   "execution_count": 3,
   "metadata": {},
   "outputs": [
    {
     "name": "stdout",
     "output_type": "stream",
     "text": [
      "Start 5 tasks in multiprocessing at 01:45:23.\n",
      ".join() Process <Process name='Process-1' pid=50742 parent=50547 started> after 0.0 seconds.\n",
      "Job 1 done after 4.0 seconds at 01:45:27, spent so far 4.01 seconds.\n",
      "Job 0 done after 8.7 seconds at 01:45:31, spent so far 8.71 seconds.\n",
      "Job 4 done after 8.8 seconds at 01:45:31, spent so far 8.82 seconds.\n",
      ".join() Process <Process name='Process-2' pid=50743 parent=50547 stopped exitcode=0> after 8.7 seconds.\n",
      ".join() Process <Process name='Process-3' pid=50744 parent=50547 started> after 8.7 seconds.\n",
      "Job 3 done after 9.5 seconds at 01:45:32, spent so far 9.52 seconds.\n",
      "Job 2 done after 9.7 seconds at 01:45:32, spent so far 9.72 seconds.\n",
      ".join() Process <Process name='Process-4' pid=50745 parent=50547 stopped exitcode=0> after 9.7 seconds.\n",
      ".join() Process <Process name='Process-5' pid=50746 parent=50547 stopped exitcode=0> after 9.7 seconds.\n",
      "All tasks are done in 9.7 seconds.\n"
     ]
    }
   ],
   "source": [
    "\n",
    "startedAt = time.time()\n",
    "processes = [ ]\n",
    "for i in range(amountOftasks):\n",
    "    t = multiprocessing.Process(target=doTask, args=(i,))\n",
    "    processes.append(t)\n",
    "    t.start()\n",
    "\n",
    "startedAt = time.time()\n",
    "print(\"Start {0} tasks in multiprocessing at {1}.\".format(amountOftasks,time.asctime().split(\" \")[3]))\n",
    "for one_process in processes:\n",
    "    print(\".join() Process {0} after {1} seconds.\".format(str(one_process),round(time.time()-startedAt,1)))\n",
    "    one_process.join()\n",
    "\n",
    "print(\"All tasks are done in {0} seconds.\".format(round(time.time()-startedAt,1)))"
   ]
  },
  {
   "cell_type": "markdown",
   "metadata": {},
   "source": [
    "# interprocess communications 1\n",
    "Any form of data exchange between processes is called interprocess communication. This can be done with shared memory by multiple processes or with data passing between them. Lets look first on memory sharing by a multithreading:"
   ]
  },
  {
   "cell_type": "code",
   "execution_count": 4,
   "metadata": {},
   "outputs": [
    {
     "name": "stdout",
     "output_type": "stream",
     "text": [
      "Shared list is now empty! len: 0; content: []\n",
      "Start 5 tasks in multithreading at 01:45:32.\n",
      ".join() thread <Thread(Thread-14, started 139640250033728)> after 0.0 seconds.\n",
      "Job (add thread inent to shared list) 1 done after 4.1 seconds at 01:45:36, spent so far 4.1 seconds.\n",
      "Job (add thread inent to shared list) 2 done after 4.3 seconds at 01:45:37, spent so far 4.3 seconds.\n",
      "Job (add thread inent to shared list) 0 done after 6.5 seconds at 01:45:39, spent so far 6.5 seconds.\n",
      ".join() thread <Thread(Thread-15, stopped 139640786904640)> after 6.5 seconds.\n",
      ".join() thread <Thread(Thread-16, stopped 139640241641024)> after 6.5 seconds.\n",
      ".join() thread <Thread(Thread-17, started 139640258426432)> after 6.5 seconds.\n",
      "Job (add thread inent to shared list) 3 done after 9.0 seconds at 01:45:41, spent so far 9.01 seconds.\n",
      ".join() thread <Thread(Thread-18, started 139640778511936)> after 9.0 seconds.\n",
      "Job (add thread inent to shared list) 4 done after 9.7 seconds at 01:45:42, spent so far 9.71 seconds.\n",
      "All tasks are done in 9.7 seconds.\n",
      "Shared list is not empty enymore! len: 5; content: [139640786904640, 139640241641024, 139640250033728, 139640258426432, 139640778511936]\n"
     ]
    }
   ],
   "source": [
    "# some shared lins to be modifyed by several threads\n",
    "mylist = [ ]\n",
    "print(\"Shared list is now empty! len: {0}; content: {1}\".format(len(mylist),str(mylist)))\n",
    "def doTask(n):\n",
    "    sleeptime = round(random.randint(1e4,1e5)/1e4,1)\n",
    "    time.sleep(sleeptime)\n",
    "    mylist.append(threading.get_ident())   # race condition aware!\n",
    "    print(\"Job (add thread inent to shared list) {0} done after {1} seconds at {2}, spent so far {3} seconds.\".format(n,sleeptime,time.asctime().split(\" \")[3],round(time.time()-startedAt,2)))\n",
    "\n",
    "threads = []\n",
    "for i in range(amountOftasks):\n",
    "    t = threading.Thread(target=doTask, args=(i,))\n",
    "    threads.append(t)\n",
    "    t.start()\n",
    "\n",
    "startedAt = time.time()\n",
    "print(\"Start {0} tasks in multithreading at {1}.\".format(amountOftasks,time.asctime().split(\" \")[3]))\n",
    "for one_thread in threads:\n",
    "    print(\".join() thread {0} after {1} seconds.\".format(str(one_thread),round(time.time()-startedAt,1)))\n",
    "    one_thread.join()\n",
    "    \n",
    "print(\"All tasks are done in {0} seconds.\".format(round(time.time()-startedAt,1)))\n",
    "print(\"Shared list is not empty enymore! len: {0}; content: {1}\".format(len(mylist),str(mylist)))"
   ]
  },
  {
   "cell_type": "markdown",
   "metadata": {},
   "source": [
    "# interprocess communications 2\n",
    "If we will do the same with multiprocessing, the result wont be the same, because multiprocessing dont use shared memory and global variable will be copied to memory of each process before it wil be changed and wont be rewritten after procccess will finish its job."
   ]
  },
  {
   "cell_type": "code",
   "execution_count": 5,
   "metadata": {},
   "outputs": [
    {
     "name": "stdout",
     "output_type": "stream",
     "text": [
      "Shared list is now empty! len: 0; content: []\n",
      "Start 5 tasks in multiprocessing at 01:45:42.\n",
      ".join() Process <Process name='Process-6' pid=50778 parent=50547 started> after 0.0 seconds.\n",
      "Job (add thread inent to shared list) 2 done after 3.9 seconds at 01:45:46, spent so far 3.91 seconds.\n",
      "Job (add thread inent to shared list) 3 done after 5.0 seconds at 01:45:47, spent so far 5.02 seconds.\n",
      "Job (add thread inent to shared list) 0 done after 5.4 seconds at 01:45:48, spent so far 5.41 seconds.\n",
      ".join() Process <Process name='Process-7' pid=50779 parent=50547 started> after 5.4 seconds.\n",
      "Job (add thread inent to shared list) 4 done after 6.0 seconds at 01:45:48, spent so far 6.02 seconds.\n",
      "Job (add thread inent to shared list) 1 done after 6.7 seconds at 01:45:49, spent so far 6.71 seconds.\n",
      ".join() Process <Process name='Process-8' pid=50780 parent=50547 stopped exitcode=0> after 6.7 seconds.\n",
      ".join() Process <Process name='Process-9' pid=50781 parent=50547 stopped exitcode=0> after 6.7 seconds.\n",
      ".join() Process <Process name='Process-10' pid=50782 parent=50547 stopped exitcode=0> after 6.7 seconds.\n",
      "All tasks are done in 6.7 seconds.\n",
      "Shared list is still empty, because we use multiprocessing! len: 0; content: []\n"
     ]
    }
   ],
   "source": [
    "\n",
    "mylist = [ ]\n",
    "print(\"Shared list is now empty! len: {0}; content: {1}\".format(len(mylist),str(mylist)))\n",
    "\n",
    "startedAt = time.time()\n",
    "processes = [ ]\n",
    "for i in range(amountOftasks):\n",
    "    t = multiprocessing.Process(target=doTask, args=(i,))\n",
    "    processes.append(t)\n",
    "    t.start()\n",
    "\n",
    "startedAt = time.time()\n",
    "print(\"Start {0} tasks in multiprocessing at {1}.\".format(amountOftasks,time.asctime().split(\" \")[3]))\n",
    "for one_process in processes:\n",
    "    print(\".join() Process {0} after {1} seconds.\".format(str(one_process),round(time.time()-startedAt,1)))\n",
    "    one_process.join()\n",
    "\n",
    "print(\"All tasks are done in {0} seconds.\".format(round(time.time()-startedAt,1)))\n",
    "print(\"Shared list is still empty, because we use multiprocessing! len: {0}; content: {1}\".format(len(mylist),str(mylist)))\n"
   ]
  },
  {
   "cell_type": "markdown",
   "metadata": {},
   "source": [
    "# interprocess communications 3\n",
    "How to communicate between processes if we don't have an any shared memory? We can use fifo pipes between processes for this reason:"
   ]
  },
  {
   "cell_type": "code",
   "execution_count": 9,
   "metadata": {},
   "outputs": [
    {
     "name": "stdout",
     "output_type": "stream",
     "text": [
      "Shared list is now empty! len: 0; content: []\n",
      "Start 5 tasks in multiprocessing at 01:46:23.\n",
      ".join() Process <Process name='Process-16' pid=50844 parent=50547 started> after 0.0 seconds.\n",
      "Job (add thread inent to shared list) 3 done after 1.2 seconds at 01:46:24, spent so far 1.22 seconds.\n",
      "Job (add thread inent to shared list) 0 done after 3.0 seconds at 01:46:26, spent so far 3.01 seconds.\n",
      ".join() Process <Process name='Process-17' pid=50845 parent=50547 started> after 3.0 seconds.\n",
      "Job (add thread inent to shared list) 2 done after 4.2 seconds at 01:46:27, spent so far 4.22 seconds.\n",
      "Job (add thread inent to shared list) 4 done after 7.1 seconds at 01:46:30, spent so far 7.13 seconds.\n",
      "Job (add thread inent to shared list) 1 done after 8.6 seconds at 01:46:31, spent so far 8.62 seconds.\n",
      ".join() Process <Process name='Process-18' pid=50846 parent=50547 stopped exitcode=0> after 8.6 seconds.\n",
      ".join() Process <Process name='Process-19' pid=50847 parent=50547 stopped exitcode=0> after 8.6 seconds.\n",
      ".join() Process <Process name='Process-20' pid=50848 parent=50547 stopped exitcode=0> after 8.6 seconds.\n",
      "All tasks are done in 8.6 seconds.\n",
      "Shared list is not empty now! len: 5; content: [50847, 50844, 50846, 50848, 50845]\n"
     ]
    }
   ],
   "source": [
    "q = multiprocessing.Queue()\n",
    "\n",
    "def doTask(n):\n",
    "    sleeptime = round(random.randint(1e4,1e5)/1e4,1)\n",
    "    time.sleep(sleeptime)\n",
    "#    mylist.append(threading.get_ident())   # race condition aware!\n",
    "    q.put(os.getpid())\n",
    "    print(\"Job (add thread inent to shared list) {0} done after {1} seconds at {2}, spent so far {3} seconds.\".format(n,sleeptime,time.asctime().split(\" \")[3],round(time.time()-startedAt,2)))\n",
    "\n",
    "mylist = [ ]\n",
    "print(\"Shared list is now empty! len: {0}; content: {1}\".format(len(mylist),str(mylist)))\n",
    "\n",
    "startedAt = time.time()\n",
    "processes = [ ]\n",
    "for i in range(amountOftasks):\n",
    "    t = multiprocessing.Process(target=doTask, args=(i,))\n",
    "    processes.append(t)\n",
    "    t.start()\n",
    "\n",
    "startedAt = time.time()\n",
    "print(\"Start {0} tasks in multiprocessing at {1}.\".format(amountOftasks,time.asctime().split(\" \")[3]))\n",
    "for one_process in processes:\n",
    "    print(\".join() Process {0} after {1} seconds.\".format(str(one_process),round(time.time()-startedAt,1)))\n",
    "    one_process.join()\n",
    "\n",
    "\n",
    "while not q.empty():\n",
    "    mylist.append(q.get())\n",
    "\n",
    "print(\"All tasks are done in {0} seconds.\".format(round(time.time()-startedAt,1)))\n",
    "print(\"Shared list is not empty now! len: {0}; content: {1}\".format(len(mylist),str(mylist)))\n"
   ]
  },
  {
   "cell_type": "markdown",
   "metadata": {},
   "source": [
    "# daemon and non daemon processes 1:\n",
    "difference between daemon and non-daemon threads:\n",
    "* daemon thread can be killed at the end of the main thread before end of damon thread\n",
    "* non-daemon thread would make main thread to wait until non-daemon threads would end before exit() on main thread"
   ]
  },
  {
   "cell_type": "code",
   "execution_count": 10,
   "metadata": {},
   "outputs": [
    {
     "name": "stdout",
     "output_type": "stream",
     "text": [
      "Job daemon started at 01:46:31.\n",
      "Job non-daemon started at 01:46:31.\n"
     ]
    }
   ],
   "source": [
    "def doTask(n):\n",
    "\tprint(\"Job {0} started at {1}.\".format(n,time.asctime().split(\" \")[3]))\n",
    "\tsleeptime = round(random.randint(1e4,1e5)/1e4,1)\n",
    "\ttime.sleep(sleeptime)\n",
    "\tprint(\"Job {0} done after {1} seconds at {2}, spent so far {3} seconds.\".format(n,sleeptime,time.asctime().split(\" \")[3],round(time.time()-startedAt,2)))\n",
    "\n",
    "t = threading.Thread(name='non-daemon', target=doTask, args=('non-daemon',))\n",
    "d = threading.Thread(name='daemon', target=doTask, args=('daemon',))\n",
    "d.setDaemon(True)\n",
    "\n",
    "startedAt = time.time()\n",
    "d.start()\n",
    "t.start()\n",
    "\n"
   ]
  },
  {
   "cell_type": "markdown",
   "metadata": {},
   "source": [
    "# daemon and non daemon processes 2: \n",
    "use .join() to wait until daemon thread would be ended"
   ]
  },
  {
   "cell_type": "code",
   "execution_count": 11,
   "metadata": {},
   "outputs": [
    {
     "name": "stdout",
     "output_type": "stream",
     "text": [
      "Job daemon started at 01:46:31.\n",
      "Job non-daemon started at 01:46:31.\n",
      "Job non-daemon done after 3.8 seconds at 01:46:35, spent so far 3.86 seconds.\n",
      "Job daemon done after 4.8 seconds at 01:46:36, spent so far 4.8 seconds.\n",
      "Job daemon done after 6.5 seconds at 01:46:38, spent so far 6.56 seconds.\n",
      "Job non-daemon done after 7.3 seconds at 01:46:39, spent so far 7.31 seconds.\n"
     ]
    }
   ],
   "source": [
    "t = threading.Thread(name='non-daemon', target=doTask, args=('non-daemon',))\n",
    "d = threading.Thread(name='daemon', target=doTask, args=('daemon',))\n",
    "d.setDaemon(True)\n",
    "\n",
    "d.start()\n",
    "t.start()\n",
    "\n",
    "d.join()\n",
    "t.join()\n"
   ]
  },
  {
   "cell_type": "markdown",
   "metadata": {},
   "source": [
    "# exmpl\n",
    "see python/multiprocessing example provided, you can use it as a start point for the making an app"
   ]
  },
  {
   "cell_type": "markdown",
   "metadata": {},
   "source": [
    "# How to use threadpool\n",
    "it is a simple library to make threads work for u"
   ]
  },
  {
   "cell_type": "code",
   "execution_count": 32,
   "metadata": {},
   "outputs": [
    {
     "name": "stdout",
     "output_type": "stream",
     "text": [
      "1\n",
      "4\n",
      "9\n",
      "16\n",
      "25\n",
      "36\n",
      "49\n",
      "64\n",
      "81\n",
      "100\n"
     ]
    }
   ],
   "source": [
    "from multiprocessing.dummy import Pool as ThreadPool\n",
    "\n",
    "def squareNumber(n):\n",
    "    return n ** 2\n",
    "\n",
    "# function to be mapped over\n",
    "def calculateParallel(numbers, threads=2):\n",
    "    pool = ThreadPool(threads)\n",
    "    results = pool.map(squareNumber, numbers)\n",
    "    pool.close()\n",
    "    pool.join()\n",
    "    return results\n",
    "\n",
    "if __name__ == \"__main__\":\n",
    "    numbers = [1, 2, 3, 4, 5]\n",
    "    squaredNumbers = calculateParallel(numbers, 4)\n",
    "    for n in squaredNumbers:\n",
    "        print(n)"
   ]
  },
  {
   "cell_type": "markdown",
   "metadata": {},
   "source": [
    "# threads are fine for not heavy stuff"
   ]
  },
  {
   "cell_type": "code",
   "execution_count": 44,
   "metadata": {},
   "outputs": [
    {
     "name": "stdout",
     "output_type": "stream",
     "text": [
      "1 thread done task in 15.02 secs\n"
     ]
    }
   ],
   "source": [
    "from multiprocessing.dummy import Pool as ThreadPool\n",
    "import time \n",
    "\n",
    "\n",
    "def sleepsecs(n):\n",
    "    time.sleep(n)\n",
    "\n",
    "# function to be mapped over\n",
    "def sleepParallel(numbers, threads=2):\n",
    "    pool = ThreadPool(threads)\n",
    "    results = pool.map(sleepsecs, numbers)\n",
    "    pool.close()\n",
    "    pool.join()\n",
    "    return results\n",
    "\n",
    "numbers = [1, 2, 3, 4, 5]\n",
    "\n",
    "startedAt = time.time()\n",
    "\n",
    "noreturn = sleepParallel(numbers, 1)\n",
    "\n",
    "print(\"1 thread done task in \"+str(round(time.time()-startedAt,2))+\" secs\")\n",
    "\n"
   ]
  },
  {
   "cell_type": "code",
   "execution_count": 54,
   "metadata": {},
   "outputs": [
    {
     "name": "stdout",
     "output_type": "stream",
     "text": [
      "1 thread done task in 5.01 secs\n"
     ]
    }
   ],
   "source": [
    "from multiprocessing.dummy import Pool as ThreadPool\n",
    "import time \n",
    "\n",
    "\n",
    "def sleepsecs(n):\n",
    "    time.sleep(n)\n",
    "\n",
    "# function to be mapped over\n",
    "def sleepParallel(numbers, threads=2):\n",
    "    pool = ThreadPool(threads)\n",
    "    results = pool.map(sleepsecs, numbers)\n",
    "    pool.close()\n",
    "    pool.join()\n",
    "    return results\n",
    "\n",
    "numbers = [1, 2, 3, 4, 5]\n",
    "\n",
    "startedAt = time.time()\n",
    "\n",
    "noreturn = sleepParallel(numbers, 5)\n",
    "\n",
    "print(\"1 thread done task in \"+str(round(time.time()-startedAt,2))+\" secs\")"
   ]
  },
  {
   "cell_type": "code",
   "execution_count": null,
   "metadata": {},
   "outputs": [],
   "source": [
    "# lets calculate pows stuff with threads"
   ]
  },
  {
   "cell_type": "code",
   "execution_count": 67,
   "metadata": {},
   "outputs": [
    {
     "name": "stdout",
     "output_type": "stream",
     "text": [
      "1 thread done task in 10.42 secs\n",
      "4 thread done task in 10.87 secs\n"
     ]
    }
   ],
   "source": [
    "from multiprocessing.dummy import Pool as ThreadPool\n",
    "\n",
    "\n",
    "def squareNumber(ns):\n",
    "    result=[]\n",
    "    for i in(ns):\n",
    "        result.append(i**2)\n",
    "    return result\n",
    "\n",
    "# function to be mapped over\n",
    "def calculateParallel(lists, threads=2):\n",
    "    pool = ThreadPool(threads)\n",
    "    results = pool.map(squareNumber, lists)\n",
    "    pool.close()\n",
    "    pool.join()\n",
    "    return results\n",
    "\n",
    "if __name__ == \"__main__\":\n",
    "\n",
    "    sublistdepth=2\n",
    "    listoflists=[]\n",
    "    tmplist=[]\n",
    "    for i in range(10000000):\n",
    "        tmplist.append(i)\n",
    "        if len(tmplist)>=sublistdepth:\n",
    "            listoflists.append(tmplist)\n",
    "            tmplist=[]\n",
    "\n",
    "    startedAt = time.time()\n",
    "    squaredNumbers = calculateParallel(listoflists, 1)\n",
    "    print(\"1 thread done task in \"+str(round(time.time()-startedAt,2))+\" secs\")\n",
    "\n",
    "\n",
    "    startedAt = time.time()\n",
    "    squaredNumbers = calculateParallel(listoflists, 4)\n",
    "    print(\"4 thread done task in \"+str(round(time.time()-startedAt,2))+\" secs\")\n"
   ]
  },
  {
   "cell_type": "code",
   "execution_count": null,
   "metadata": {},
   "outputs": [],
   "source": [
    "# here are the same prog but with multiprocessing"
   ]
  },
  {
   "cell_type": "code",
   "execution_count": 2,
   "metadata": {},
   "outputs": [
    {
     "name": "stdout",
     "output_type": "stream",
     "text": [
      "formed list of numbers in 1.34 secs\n",
      "1 thread done task in 8.26 secs\n",
      "4 thread done task in 2.97 secs\n"
     ]
    }
   ],
   "source": [
    "#python 3.x\n",
    "from multiprocessing import Pool\n",
    "import os\n",
    "import time\n",
    "\n",
    "def squareIT(n):\n",
    "    return n**2\n",
    "\n",
    "\n",
    "def calculateParallel(listIK, threads=2):\n",
    "    pool = Pool(threads)\n",
    "    results = pool.map(squareIT, listIK)\n",
    "    pool.close()\n",
    "    pool.join()\n",
    "    return results\n",
    "\n",
    "if __name__ == \"__main__\":\n",
    "\n",
    "    startedAt = time.time()\n",
    "\n",
    "    tmplist=[]\n",
    "    for i in range(10000000):\n",
    "        tmplist.append(i)\n",
    "    print(\"formed list of numbers in \"+str(round(time.time()-startedAt,2))+\" secs\")\n",
    "\n",
    "    \n",
    "    startedAt = time.time()\n",
    "    pool_output = calculateParallel(tmplist,1)\n",
    "    print(\"1 thread done task in \"+str(round(time.time()-startedAt,2))+\" secs\")\n",
    "\n",
    "\n",
    "    startedAt = time.time()\n",
    "    pool_output = calculateParallel(tmplist,4)\n",
    "    print(\"4 thread done task in \"+str(round(time.time()-startedAt,2))+\" secs\")\n"
   ]
  },
  {
   "cell_type": "code",
   "execution_count": 3,
   "metadata": {},
   "outputs": [
    {
     "name": "stdout",
     "output_type": "stream",
     "text": [
      "formed list of numbers in 1.6 secs\n",
      "1 thread done task in 8.31 secs\n",
      "4 thread done task in 3.26 secs\n"
     ]
    }
   ],
   "source": [
    "#python 3.x\n",
    "from multiprocessing import Pool\n",
    "import os\n",
    "import time\n",
    "\n",
    "def squareIT(n):\n",
    "    return n**2\n",
    "\n",
    "if __name__ == \"__main__\":\n",
    "\n",
    "    startedAt = time.time()\n",
    "\n",
    "    tmplist=[]\n",
    "    for i in range(10000000):\n",
    "        tmplist.append(i)\n",
    "    print(\"formed list of numbers in \"+str(round(time.time()-startedAt,2))+\" secs\")\n",
    "\n",
    "    \n",
    "    startedAt = time.time()\n",
    "\n",
    "    pool = Pool(1)\n",
    "    results = pool(1).map(squareIT, tmplist)\n",
    "    pool.close()\n",
    "    pool.join()\n",
    "\n",
    "    print(\"1 thread done task in \"+str(round(time.time()-startedAt,2))+\" secs\")\n",
    "\n",
    "\n",
    "    startedAt = time.time()\n",
    "    pool = Pool(4)\n",
    "    results = pool.map(squareIT, tmplist)\n",
    "    pool.close()\n",
    "    pool.join()\n",
    "\n",
    "    print(\"4 thread done task in \"+str(round(time.time()-startedAt,2))+\" secs\")\n"
   ]
  }
 ],
 "metadata": {
  "interpreter": {
   "hash": "767d51c1340bd893661ea55ea3124f6de3c7a262a8b4abca0554b478b1e2ff90"
  },
  "kernelspec": {
   "display_name": "Python 3.9.7 64-bit",
   "name": "python3"
  },
  "language_info": {
   "codemirror_mode": {
    "name": "ipython",
    "version": 3
   },
   "file_extension": ".py",
   "mimetype": "text/x-python",
   "name": "python",
   "nbconvert_exporter": "python",
   "pygments_lexer": "ipython3",
   "version": "3.9.7"
  },
  "orig_nbformat": 4
 },
 "nbformat": 4,
 "nbformat_minor": 2
}
