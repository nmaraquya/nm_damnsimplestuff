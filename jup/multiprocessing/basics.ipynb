{
 "cells": [
  {
   "cell_type": "markdown",
   "metadata": {},
   "source": [
    "# one- vs multi-threading\n",
    "In some cases instead of making a single thread python program you can use paralleling and speed it up  \n",
    "Below is a damn simple programm that demonstrates a simple multrithreading app. Lets assume we have some simple task (def doTask()) and we have to launch it N times in a row (amountOftasks). In this task we have random time insleep that represents some work done or waiting a response from somewhere. Lets first launch it in a single thread one by one and then launch them via multithreading lib nad compare time difference!"
   ]
  },
  {
   "cell_type": "code",
   "execution_count": 1,
   "metadata": {},
   "outputs": [
    {
     "name": "stdout",
     "output_type": "stream",
     "text": [
      "Start 5 tasks one-by-one in a row at 01:44:48.\n",
      "Job 0 done after 7.5 seconds at 01:44:55, spent so far 7.51 seconds.\n",
      "Job 1 done after 1.6 seconds at 01:44:57, spent so far 9.11 seconds.\n",
      "Job 2 done after 9.4 seconds at 01:45:06, spent so far 18.51 seconds.\n",
      "Job 3 done after 6.0 seconds at 01:45:12, spent so far 24.52 seconds.\n",
      "Job 4 done after 1.4 seconds at 01:45:14, spent so far 25.92 seconds.\n",
      "Start 5 tasks in multithreading at 01:45:14.\n"
     ]
    }
   ],
   "source": [
    "import threading\n",
    "import multiprocessing\n",
    "import time\n",
    "import random\n",
    "\n",
    "amountOftasks = 5\n",
    "\n",
    "def doTask(n):\n",
    "    sleeptime = round(random.randint(1e4,1e5)/1e4,1)\n",
    "    time.sleep(sleeptime)\n",
    "    print(\"Job {0} done after {1} seconds at {2}, spent so far {3} seconds.\".format(n,sleeptime,time.asctime().split(\" \")[3],round(time.time()-startedAt,2)))\n",
    "\n",
    "startedAt = time.time()\n",
    "print(\"Start {0} tasks one-by-one in a row at {1}.\".format(amountOftasks,time.asctime().split(\" \")[3]))\n",
    "for i in range(amountOftasks): \n",
    "    doTask(i)\n",
    "\n",
    "startedAt = time.time()\n",
    "print(\"Start {0} tasks in multithreading at {1}.\".format(amountOftasks,time.asctime().split(\" \")[3]))\n",
    "for i in range(amountOftasks): \n",
    "    threading.Thread(target=doTask, args=(i,)).start()\n"
   ]
  },
  {
   "cell_type": "markdown",
   "metadata": {},
   "source": [
    "# multithreading is much faster\n",
    "Yes, in some cases you can significantly speedup your program computing tasks in parallel. Lets rewrite it with more control over threads:"
   ]
  },
  {
   "cell_type": "code",
   "execution_count": 2,
   "metadata": {},
   "outputs": [
    {
     "name": "stdout",
     "output_type": "stream",
     "text": [
      "Start 5 tasks in multithreading at 01:45:14.\n",
      ".join() thread <Thread(Thread-9, started 139640744941120)> after 0.0 seconds.\n",
      "Job 3 done after 1.2 seconds at 01:45:15, spent so far 1.15 seconds.\n",
      "Job 4 done after 1.5 seconds at 01:45:15, spent so far 1.45 seconds.\n",
      "Job 2 done after 3.2 seconds at 01:45:17, spent so far 3.15 seconds.\n",
      "Job 4 done after 4.4 seconds at 01:45:18, spent so far 4.4 seconds.\n",
      "Job 1 done after 6.2 seconds at 01:45:20, spent so far 6.15 seconds.\n",
      "Job 0 done after 7.8 seconds at 01:45:21, spent so far 7.8 seconds.\n",
      ".join() thread <Thread(Thread-10, started 139640258426432)> after 7.8 seconds.\n",
      "Job 1 done after 8.0 seconds at 01:45:22, spent so far 8.0 seconds.\n",
      ".join() thread <Thread(Thread-11, started 139640250033728)> after 8.0 seconds.\n",
      "Job 3 done after 8.2 seconds at 01:45:22, spent so far 8.21 seconds.\n",
      "Job 0 done after 8.9 seconds at 01:45:22, spent so far 8.85 seconds.\n",
      "Job 2 done after 9.0 seconds at 01:45:23, spent so far 9.01 seconds.\n",
      ".join() thread <Thread(Thread-12, stopped 139640241641024)> after 9.0 seconds.\n",
      ".join() thread <Thread(Thread-13, stopped 139640233248320)> after 9.0 seconds.\n",
      "All tasks are done at 9.0 seconds.\n"
     ]
    }
   ],
   "source": [
    "threads = []\n",
    "for i in range(amountOftasks):\n",
    "    t = threading.Thread(target=doTask, args=(i,))\n",
    "    threads.append(t)\n",
    "    t.start()\n",
    "\n",
    "# .join() method blocks main thread until this tread would not be killed\n",
    "\n",
    "startedAt = time.time()\n",
    "print(\"Start {0} tasks in multithreading at {1}.\".format(amountOftasks,time.asctime().split(\" \")[3]))\n",
    "for one_thread in threads:\n",
    "     # stdout also blocked here because it is controlled by main thread\n",
    "    print(\".join() thread {0} after {1} seconds.\".format(str(one_thread),round(time.time()-startedAt,1)))\n",
    "    one_thread.join()\n",
    "\n",
    "print(\"All tasks are done at {0} seconds.\".format(round(time.time()-startedAt,1)))"
   ]
  },
  {
   "cell_type": "markdown",
   "metadata": {},
   "source": [
    "# multiprocessing or multithreading!\n",
    "lets do the same in multiprocessing instead of multithreading. btw both libraries have very similar sintax"
   ]
  },
  {
   "cell_type": "code",
   "execution_count": 3,
   "metadata": {},
   "outputs": [
    {
     "name": "stdout",
     "output_type": "stream",
     "text": [
      "Start 5 tasks in multiprocessing at 01:45:23.\n",
      ".join() Process <Process name='Process-1' pid=50742 parent=50547 started> after 0.0 seconds.\n",
      "Job 1 done after 4.0 seconds at 01:45:27, spent so far 4.01 seconds.\n",
      "Job 0 done after 8.7 seconds at 01:45:31, spent so far 8.71 seconds.\n",
      "Job 4 done after 8.8 seconds at 01:45:31, spent so far 8.82 seconds.\n",
      ".join() Process <Process name='Process-2' pid=50743 parent=50547 stopped exitcode=0> after 8.7 seconds.\n",
      ".join() Process <Process name='Process-3' pid=50744 parent=50547 started> after 8.7 seconds.\n",
      "Job 3 done after 9.5 seconds at 01:45:32, spent so far 9.52 seconds.\n",
      "Job 2 done after 9.7 seconds at 01:45:32, spent so far 9.72 seconds.\n",
      ".join() Process <Process name='Process-4' pid=50745 parent=50547 stopped exitcode=0> after 9.7 seconds.\n",
      ".join() Process <Process name='Process-5' pid=50746 parent=50547 stopped exitcode=0> after 9.7 seconds.\n",
      "All tasks are done in 9.7 seconds.\n"
     ]
    }
   ],
   "source": [
    "\n",
    "startedAt = time.time()\n",
    "processes = [ ]\n",
    "for i in range(amountOftasks):\n",
    "    t = multiprocessing.Process(target=doTask, args=(i,))\n",
    "    processes.append(t)\n",
    "    t.start()\n",
    "\n",
    "startedAt = time.time()\n",
    "print(\"Start {0} tasks in multiprocessing at {1}.\".format(amountOftasks,time.asctime().split(\" \")[3]))\n",
    "for one_process in processes:\n",
    "    print(\".join() Process {0} after {1} seconds.\".format(str(one_process),round(time.time()-startedAt,1)))\n",
    "    one_process.join()\n",
    "\n",
    "print(\"All tasks are done in {0} seconds.\".format(round(time.time()-startedAt,1)))"
   ]
  },
  {
   "cell_type": "markdown",
   "metadata": {},
   "source": [
    "# interprocess communications 1\n",
    "Any form of data exchange between processes is called interprocess communication. This can be done with shared memory by multiple processes or with data passing between them. Lets look first on memory sharing by a multithreading:"
   ]
  },
  {
   "cell_type": "code",
   "execution_count": 4,
   "metadata": {},
   "outputs": [
    {
     "name": "stdout",
     "output_type": "stream",
     "text": [
      "Shared list is now empty! len: 0; content: []\n",
      "Start 5 tasks in multithreading at 01:45:32.\n",
      ".join() thread <Thread(Thread-14, started 139640250033728)> after 0.0 seconds.\n",
      "Job (add thread inent to shared list) 1 done after 4.1 seconds at 01:45:36, spent so far 4.1 seconds.\n",
      "Job (add thread inent to shared list) 2 done after 4.3 seconds at 01:45:37, spent so far 4.3 seconds.\n",
      "Job (add thread inent to shared list) 0 done after 6.5 seconds at 01:45:39, spent so far 6.5 seconds.\n",
      ".join() thread <Thread(Thread-15, stopped 139640786904640)> after 6.5 seconds.\n",
      ".join() thread <Thread(Thread-16, stopped 139640241641024)> after 6.5 seconds.\n",
      ".join() thread <Thread(Thread-17, started 139640258426432)> after 6.5 seconds.\n",
      "Job (add thread inent to shared list) 3 done after 9.0 seconds at 01:45:41, spent so far 9.01 seconds.\n",
      ".join() thread <Thread(Thread-18, started 139640778511936)> after 9.0 seconds.\n",
      "Job (add thread inent to shared list) 4 done after 9.7 seconds at 01:45:42, spent so far 9.71 seconds.\n",
      "All tasks are done in 9.7 seconds.\n",
      "Shared list is not empty enymore! len: 5; content: [139640786904640, 139640241641024, 139640250033728, 139640258426432, 139640778511936]\n"
     ]
    }
   ],
   "source": [
    "# some shared lins to be modifyed by several threads\n",
    "mylist = [ ]\n",
    "print(\"Shared list is now empty! len: {0}; content: {1}\".format(len(mylist),str(mylist)))\n",
    "def doTask(n):\n",
    "    sleeptime = round(random.randint(1e4,1e5)/1e4,1)\n",
    "    time.sleep(sleeptime)\n",
    "    mylist.append(threading.get_ident())   # race condition aware!\n",
    "    print(\"Job (add thread inent to shared list) {0} done after {1} seconds at {2}, spent so far {3} seconds.\".format(n,sleeptime,time.asctime().split(\" \")[3],round(time.time()-startedAt,2)))\n",
    "\n",
    "threads = []\n",
    "for i in range(amountOftasks):\n",
    "    t = threading.Thread(target=doTask, args=(i,))\n",
    "    threads.append(t)\n",
    "    t.start()\n",
    "\n",
    "startedAt = time.time()\n",
    "print(\"Start {0} tasks in multithreading at {1}.\".format(amountOftasks,time.asctime().split(\" \")[3]))\n",
    "for one_thread in threads:\n",
    "    print(\".join() thread {0} after {1} seconds.\".format(str(one_thread),round(time.time()-startedAt,1)))\n",
    "    one_thread.join()\n",
    "    \n",
    "print(\"All tasks are done in {0} seconds.\".format(round(time.time()-startedAt,1)))\n",
    "print(\"Shared list is not empty enymore! len: {0}; content: {1}\".format(len(mylist),str(mylist)))"
   ]
  },
  {
   "cell_type": "markdown",
   "metadata": {},
   "source": [
    "# interprocess communications 2\n",
    "If we will do the same with multiprocessing, the result wont be the same, because multiprocessing dont use shared memory and global variable will be copied to memory of each process before it wil be changed and wont be rewritten after procccess will finish its job."
   ]
  },
  {
   "cell_type": "code",
   "execution_count": 5,
   "metadata": {},
   "outputs": [
    {
     "name": "stdout",
     "output_type": "stream",
     "text": [
      "Shared list is now empty! len: 0; content: []\n",
      "Start 5 tasks in multiprocessing at 01:45:42.\n",
      ".join() Process <Process name='Process-6' pid=50778 parent=50547 started> after 0.0 seconds.\n",
      "Job (add thread inent to shared list) 2 done after 3.9 seconds at 01:45:46, spent so far 3.91 seconds.\n",
      "Job (add thread inent to shared list) 3 done after 5.0 seconds at 01:45:47, spent so far 5.02 seconds.\n",
      "Job (add thread inent to shared list) 0 done after 5.4 seconds at 01:45:48, spent so far 5.41 seconds.\n",
      ".join() Process <Process name='Process-7' pid=50779 parent=50547 started> after 5.4 seconds.\n",
      "Job (add thread inent to shared list) 4 done after 6.0 seconds at 01:45:48, spent so far 6.02 seconds.\n",
      "Job (add thread inent to shared list) 1 done after 6.7 seconds at 01:45:49, spent so far 6.71 seconds.\n",
      ".join() Process <Process name='Process-8' pid=50780 parent=50547 stopped exitcode=0> after 6.7 seconds.\n",
      ".join() Process <Process name='Process-9' pid=50781 parent=50547 stopped exitcode=0> after 6.7 seconds.\n",
      ".join() Process <Process name='Process-10' pid=50782 parent=50547 stopped exitcode=0> after 6.7 seconds.\n",
      "All tasks are done in 6.7 seconds.\n",
      "Shared list is still empty, because we use multiprocessing! len: 0; content: []\n"
     ]
    }
   ],
   "source": [
    "\n",
    "mylist = [ ]\n",
    "print(\"Shared list is now empty! len: {0}; content: {1}\".format(len(mylist),str(mylist)))\n",
    "\n",
    "startedAt = time.time()\n",
    "processes = [ ]\n",
    "for i in range(amountOftasks):\n",
    "    t = multiprocessing.Process(target=doTask, args=(i,))\n",
    "    processes.append(t)\n",
    "    t.start()\n",
    "\n",
    "startedAt = time.time()\n",
    "print(\"Start {0} tasks in multiprocessing at {1}.\".format(amountOftasks,time.asctime().split(\" \")[3]))\n",
    "for one_process in processes:\n",
    "    print(\".join() Process {0} after {1} seconds.\".format(str(one_process),round(time.time()-startedAt,1)))\n",
    "    one_process.join()\n",
    "\n",
    "print(\"All tasks are done in {0} seconds.\".format(round(time.time()-startedAt,1)))\n",
    "print(\"Shared list is still empty, because we use multiprocessing! len: {0}; content: {1}\".format(len(mylist),str(mylist)))\n"
   ]
  },
  {
   "cell_type": "markdown",
   "metadata": {},
   "source": [
    "# interprocess communications 3\n",
    "How to communicate between processes if we don't have an any shared memory? We can use fifo pipes between processes for this reason:"
   ]
  },
  {
   "cell_type": "code",
   "execution_count": 9,
   "metadata": {},
   "outputs": [
    {
     "name": "stdout",
     "output_type": "stream",
     "text": [
      "Shared list is now empty! len: 0; content: []\n",
      "Start 5 tasks in multiprocessing at 01:46:23.\n",
      ".join() Process <Process name='Process-16' pid=50844 parent=50547 started> after 0.0 seconds.\n",
      "Job (add thread inent to shared list) 3 done after 1.2 seconds at 01:46:24, spent so far 1.22 seconds.\n",
      "Job (add thread inent to shared list) 0 done after 3.0 seconds at 01:46:26, spent so far 3.01 seconds.\n",
      ".join() Process <Process name='Process-17' pid=50845 parent=50547 started> after 3.0 seconds.\n",
      "Job (add thread inent to shared list) 2 done after 4.2 seconds at 01:46:27, spent so far 4.22 seconds.\n",
      "Job (add thread inent to shared list) 4 done after 7.1 seconds at 01:46:30, spent so far 7.13 seconds.\n",
      "Job (add thread inent to shared list) 1 done after 8.6 seconds at 01:46:31, spent so far 8.62 seconds.\n",
      ".join() Process <Process name='Process-18' pid=50846 parent=50547 stopped exitcode=0> after 8.6 seconds.\n",
      ".join() Process <Process name='Process-19' pid=50847 parent=50547 stopped exitcode=0> after 8.6 seconds.\n",
      ".join() Process <Process name='Process-20' pid=50848 parent=50547 stopped exitcode=0> after 8.6 seconds.\n",
      "All tasks are done in 8.6 seconds.\n",
      "Shared list is not empty now! len: 5; content: [50847, 50844, 50846, 50848, 50845]\n"
     ]
    }
   ],
   "source": [
    "q = multiprocessing.Queue()\n",
    "\n",
    "def doTask(n):\n",
    "    sleeptime = round(random.randint(1e4,1e5)/1e4,1)\n",
    "    time.sleep(sleeptime)\n",
    "#    mylist.append(threading.get_ident())   # race condition aware!\n",
    "    q.put(os.getpid())\n",
    "    print(\"Job (add thread inent to shared list) {0} done after {1} seconds at {2}, spent so far {3} seconds.\".format(n,sleeptime,time.asctime().split(\" \")[3],round(time.time()-startedAt,2)))\n",
    "\n",
    "mylist = [ ]\n",
    "print(\"Shared list is now empty! len: {0}; content: {1}\".format(len(mylist),str(mylist)))\n",
    "\n",
    "startedAt = time.time()\n",
    "processes = [ ]\n",
    "for i in range(amountOftasks):\n",
    "    t = multiprocessing.Process(target=doTask, args=(i,))\n",
    "    processes.append(t)\n",
    "    t.start()\n",
    "\n",
    "startedAt = time.time()\n",
    "print(\"Start {0} tasks in multiprocessing at {1}.\".format(amountOftasks,time.asctime().split(\" \")[3]))\n",
    "for one_process in processes:\n",
    "    print(\".join() Process {0} after {1} seconds.\".format(str(one_process),round(time.time()-startedAt,1)))\n",
    "    one_process.join()\n",
    "\n",
    "\n",
    "while not q.empty():\n",
    "    mylist.append(q.get())\n",
    "\n",
    "print(\"All tasks are done in {0} seconds.\".format(round(time.time()-startedAt,1)))\n",
    "print(\"Shared list is not empty now! len: {0}; content: {1}\".format(len(mylist),str(mylist)))\n"
   ]
  },
  {
   "cell_type": "markdown",
   "metadata": {},
   "source": [
    "# daemon and non daemon processes 1:\n",
    "difference between daemon and non-daemon threads:\n",
    "* daemon thread can be killed at the end of the main thread before end of damon thread\n",
    "* non-daemon thread would make main thread to wait until non-daemon threads would end before exit() on main thread"
   ]
  },
  {
   "cell_type": "code",
   "execution_count": 10,
   "metadata": {},
   "outputs": [
    {
     "name": "stdout",
     "output_type": "stream",
     "text": [
      "Job daemon started at 01:46:31.\n",
      "Job non-daemon started at 01:46:31.\n"
     ]
    }
   ],
   "source": [
    "def doTask(n):\n",
    "\tprint(\"Job {0} started at {1}.\".format(n,time.asctime().split(\" \")[3]))\n",
    "\tsleeptime = round(random.randint(1e4,1e5)/1e4,1)\n",
    "\ttime.sleep(sleeptime)\n",
    "\tprint(\"Job {0} done after {1} seconds at {2}, spent so far {3} seconds.\".format(n,sleeptime,time.asctime().split(\" \")[3],round(time.time()-startedAt,2)))\n",
    "\n",
    "t = threading.Thread(name='non-daemon', target=doTask, args=('non-daemon',))\n",
    "d = threading.Thread(name='daemon', target=doTask, args=('daemon',))\n",
    "d.setDaemon(True)\n",
    "\n",
    "startedAt = time.time()\n",
    "d.start()\n",
    "t.start()\n",
    "\n"
   ]
  },
  {
   "cell_type": "markdown",
   "metadata": {},
   "source": [
    "# daemon and non daemon processes 2: \n",
    "use .join() to wait until daemon thread would be ended"
   ]
  },
  {
   "cell_type": "code",
   "execution_count": 11,
   "metadata": {},
   "outputs": [
    {
     "name": "stdout",
     "output_type": "stream",
     "text": [
      "Job daemon started at 01:46:31.\n",
      "Job non-daemon started at 01:46:31.\n",
      "Job non-daemon done after 3.8 seconds at 01:46:35, spent so far 3.86 seconds.\n",
      "Job daemon done after 4.8 seconds at 01:46:36, spent so far 4.8 seconds.\n",
      "Job daemon done after 6.5 seconds at 01:46:38, spent so far 6.56 seconds.\n",
      "Job non-daemon done after 7.3 seconds at 01:46:39, spent so far 7.31 seconds.\n"
     ]
    }
   ],
   "source": [
    "t = threading.Thread(name='non-daemon', target=doTask, args=('non-daemon',))\n",
    "d = threading.Thread(name='daemon', target=doTask, args=('daemon',))\n",
    "d.setDaemon(True)\n",
    "\n",
    "d.start()\n",
    "t.start()\n",
    "\n",
    "d.join()\n",
    "t.join()\n"
   ]
  },
  {
   "cell_type": "markdown",
   "metadata": {},
   "source": [
    "# exmpl\n",
    "see python/multiprocessing example provided, you can use it as a start point for the making an app"
   ]
  },
  {
   "cell_type": "markdown",
   "metadata": {},
   "source": [
    "How to use threadpool"
   ]
  },
  {
   "cell_type": "code",
   "execution_count": 32,
   "metadata": {},
   "outputs": [
    {
     "name": "stdout",
     "output_type": "stream",
     "text": [
      "1\n",
      "4\n",
      "9\n",
      "16\n",
      "25\n",
      "36\n",
      "49\n",
      "64\n",
      "81\n",
      "100\n"
     ]
    }
   ],
   "source": [
    "from multiprocessing.dummy import Pool as ThreadPool\n",
    "\n",
    "def squareNumber(n):\n",
    "    return n ** 2\n",
    "\n",
    "# function to be mapped over\n",
    "def calculateParallel(numbers, threads=2):\n",
    "    pool = ThreadPool(threads)\n",
    "    results = pool.map(squareNumber, numbers)\n",
    "    pool.close()\n",
    "    pool.join()\n",
    "    return results\n",
    "\n",
    "if __name__ == \"__main__\":\n",
    "    numbers = [1, 2, 3, 4, 5]\n",
    "    squaredNumbers = calculateParallel(numbers, 4)\n",
    "    for n in squaredNumbers:\n",
    "        print(n)"
   ]
  },
  {
   "cell_type": "markdown",
   "metadata": {},
   "source": [
    "# proof"
   ]
  },
  {
   "cell_type": "code",
   "execution_count": 44,
   "metadata": {},
   "outputs": [
    {
     "name": "stdout",
     "output_type": "stream",
     "text": [
      "1 thread done task in 15.02 secs\n"
     ]
    }
   ],
   "source": [
    "from multiprocessing.dummy import Pool as ThreadPool\n",
    "import time \n",
    "\n",
    "\n",
    "def sleepsecs(n):\n",
    "    time.sleep(n)\n",
    "\n",
    "# function to be mapped over\n",
    "def sleepParallel(numbers, threads=2):\n",
    "    pool = ThreadPool(threads)\n",
    "    results = pool.map(sleepsecs, numbers)\n",
    "    pool.close()\n",
    "    pool.join()\n",
    "    return results\n",
    "\n",
    "numbers = [1, 2, 3, 4, 5]\n",
    "\n",
    "startedAt = time.time()\n",
    "\n",
    "noreturn = sleepParallel(numbers, 1)\n",
    "\n",
    "print(\"1 thread done task in \"+str(round(time.time()-startedAt,2))+\" secs\")\n",
    "\n"
   ]
  },
  {
   "cell_type": "code",
   "execution_count": 54,
   "metadata": {},
   "outputs": [
    {
     "name": "stdout",
     "output_type": "stream",
     "text": [
      "1 thread done task in 5.01 secs\n"
     ]
    }
   ],
   "source": [
    "from multiprocessing.dummy import Pool as ThreadPool\n",
    "import time \n",
    "\n",
    "\n",
    "def sleepsecs(n):\n",
    "    time.sleep(n)\n",
    "\n",
    "# function to be mapped over\n",
    "def sleepParallel(numbers, threads=2):\n",
    "    pool = ThreadPool(threads)\n",
    "    results = pool.map(sleepsecs, numbers)\n",
    "    pool.close()\n",
    "    pool.join()\n",
    "    return results\n",
    "\n",
    "numbers = [1, 2, 3, 4, 5]\n",
    "\n",
    "startedAt = time.time()\n",
    "\n",
    "noreturn = sleepParallel(numbers, 5)\n",
    "\n",
    "print(\"1 thread done task in \"+str(round(time.time()-startedAt,2))+\" secs\")"
   ]
  },
  {
   "cell_type": "code",
   "execution_count": 56,
   "metadata": {},
   "outputs": [
    {
     "name": "stdout",
     "output_type": "stream",
     "text": [
      "[[0, 1, 2, 3, 4, 5, 6, 7, 8, 9, 10, 11, 12, 13, 14, 15, 16, 17, 18, 19, 20, 21, 22, 23, 24, 25, 26, 27, 28, 29, 30, 31, 32, 33, 34, 35, 36, 37, 38, 39, 40, 41, 42, 43, 44, 45, 46, 47, 48, 49, 50, 51, 52, 53, 54, 55, 56, 57, 58, 59, 60, 61, 62, 63, 64, 65, 66, 67, 68, 69, 70, 71, 72, 73, 74, 75, 76, 77, 78, 79, 80, 81, 82, 83, 84, 85, 86, 87, 88, 89, 90, 91, 92, 93, 94, 95, 96, 97, 98, 99, 100, 101, 102, 103, 104, 105, 106, 107, 108, 109, 110, 111, 112, 113, 114, 115, 116, 117, 118, 119, 120, 121, 122, 123, 124, 125, 126, 127, 128, 129, 130, 131, 132, 133, 134, 135, 136, 137, 138, 139, 140, 141, 142, 143, 144, 145, 146, 147, 148, 149, 150, 151, 152, 153, 154, 155, 156, 157, 158, 159, 160, 161, 162, 163, 164, 165, 166, 167, 168, 169, 170, 171, 172, 173, 174, 175, 176, 177, 178, 179, 180, 181, 182, 183, 184, 185, 186, 187, 188, 189, 190, 191, 192, 193, 194, 195, 196, 197, 198, 199, 200, 201, 202, 203, 204, 205, 206, 207, 208, 209, 210, 211, 212, 213, 214, 215, 216, 217, 218, 219, 220, 221, 222, 223, 224, 225, 226, 227, 228, 229, 230, 231, 232, 233, 234, 235, 236, 237, 238, 239, 240, 241, 242, 243, 244, 245, 246, 247, 248, 249], [250, 251, 252, 253, 254, 255, 256, 257, 258, 259, 260, 261, 262, 263, 264, 265, 266, 267, 268, 269, 270, 271, 272, 273, 274, 275, 276, 277, 278, 279, 280, 281, 282, 283, 284, 285, 286, 287, 288, 289, 290, 291, 292, 293, 294, 295, 296, 297, 298, 299, 300, 301, 302, 303, 304, 305, 306, 307, 308, 309, 310, 311, 312, 313, 314, 315, 316, 317, 318, 319, 320, 321, 322, 323, 324, 325, 326, 327, 328, 329, 330, 331, 332, 333, 334, 335, 336, 337, 338, 339, 340, 341, 342, 343, 344, 345, 346, 347, 348, 349, 350, 351, 352, 353, 354, 355, 356, 357, 358, 359, 360, 361, 362, 363, 364, 365, 366, 367, 368, 369, 370, 371, 372, 373, 374, 375, 376, 377, 378, 379, 380, 381, 382, 383, 384, 385, 386, 387, 388, 389, 390, 391, 392, 393, 394, 395, 396, 397, 398, 399, 400, 401, 402, 403, 404, 405, 406, 407, 408, 409, 410, 411, 412, 413, 414, 415, 416, 417, 418, 419, 420, 421, 422, 423, 424, 425, 426, 427, 428, 429, 430, 431, 432, 433, 434, 435, 436, 437, 438, 439, 440, 441, 442, 443, 444, 445, 446, 447, 448, 449, 450, 451, 452, 453, 454, 455, 456, 457, 458, 459, 460, 461, 462, 463, 464, 465, 466, 467, 468, 469, 470, 471, 472, 473, 474, 475, 476, 477, 478, 479, 480, 481, 482, 483, 484, 485, 486, 487, 488, 489, 490, 491, 492, 493, 494, 495, 496, 497, 498, 499], [500, 501, 502, 503, 504, 505, 506, 507, 508, 509, 510, 511, 512, 513, 514, 515, 516, 517, 518, 519, 520, 521, 522, 523, 524, 525, 526, 527, 528, 529, 530, 531, 532, 533, 534, 535, 536, 537, 538, 539, 540, 541, 542, 543, 544, 545, 546, 547, 548, 549, 550, 551, 552, 553, 554, 555, 556, 557, 558, 559, 560, 561, 562, 563, 564, 565, 566, 567, 568, 569, 570, 571, 572, 573, 574, 575, 576, 577, 578, 579, 580, 581, 582, 583, 584, 585, 586, 587, 588, 589, 590, 591, 592, 593, 594, 595, 596, 597, 598, 599, 600, 601, 602, 603, 604, 605, 606, 607, 608, 609, 610, 611, 612, 613, 614, 615, 616, 617, 618, 619, 620, 621, 622, 623, 624, 625, 626, 627, 628, 629, 630, 631, 632, 633, 634, 635, 636, 637, 638, 639, 640, 641, 642, 643, 644, 645, 646, 647, 648, 649, 650, 651, 652, 653, 654, 655, 656, 657, 658, 659, 660, 661, 662, 663, 664, 665, 666, 667, 668, 669, 670, 671, 672, 673, 674, 675, 676, 677, 678, 679, 680, 681, 682, 683, 684, 685, 686, 687, 688, 689, 690, 691, 692, 693, 694, 695, 696, 697, 698, 699, 700, 701, 702, 703, 704, 705, 706, 707, 708, 709, 710, 711, 712, 713, 714, 715, 716, 717, 718, 719, 720, 721, 722, 723, 724, 725, 726, 727, 728, 729, 730, 731, 732, 733, 734, 735, 736, 737, 738, 739, 740, 741, 742, 743, 744, 745, 746, 747, 748, 749], [750, 751, 752, 753, 754, 755, 756, 757, 758, 759, 760, 761, 762, 763, 764, 765, 766, 767, 768, 769, 770, 771, 772, 773, 774, 775, 776, 777, 778, 779, 780, 781, 782, 783, 784, 785, 786, 787, 788, 789, 790, 791, 792, 793, 794, 795, 796, 797, 798, 799, 800, 801, 802, 803, 804, 805, 806, 807, 808, 809, 810, 811, 812, 813, 814, 815, 816, 817, 818, 819, 820, 821, 822, 823, 824, 825, 826, 827, 828, 829, 830, 831, 832, 833, 834, 835, 836, 837, 838, 839, 840, 841, 842, 843, 844, 845, 846, 847, 848, 849, 850, 851, 852, 853, 854, 855, 856, 857, 858, 859, 860, 861, 862, 863, 864, 865, 866, 867, 868, 869, 870, 871, 872, 873, 874, 875, 876, 877, 878, 879, 880, 881, 882, 883, 884, 885, 886, 887, 888, 889, 890, 891, 892, 893, 894, 895, 896, 897, 898, 899, 900, 901, 902, 903, 904, 905, 906, 907, 908, 909, 910, 911, 912, 913, 914, 915, 916, 917, 918, 919, 920, 921, 922, 923, 924, 925, 926, 927, 928, 929, 930, 931, 932, 933, 934, 935, 936, 937, 938, 939, 940, 941, 942, 943, 944, 945, 946, 947, 948, 949, 950, 951, 952, 953, 954, 955, 956, 957, 958, 959, 960, 961, 962, 963, 964, 965, 966, 967, 968, 969, 970, 971, 972, 973, 974, 975, 976, 977, 978, 979, 980, 981, 982, 983, 984, 985, 986, 987, 988, 989, 990, 991, 992, 993, 994, 995, 996, 997, 998, 999]]\n"
     ]
    }
   ],
   "source": [
    "sublistdepth=250\n",
    "listoflists=[]\n",
    "tmplist=[]\n",
    "for i in range(1000):\n",
    "    tmplist.append(i)\n",
    "    if len(tmplist)>=sublistdepth:\n",
    "        listoflists.append(tmplist)\n",
    "        tmplist=[]\n",
    "print(listoflists)\n",
    "\n"
   ]
  },
  {
   "cell_type": "code",
   "execution_count": 67,
   "metadata": {},
   "outputs": [
    {
     "name": "stdout",
     "output_type": "stream",
     "text": [
      "1 thread done task in 10.42 secs\n",
      "4 thread done task in 10.87 secs\n"
     ]
    }
   ],
   "source": [
    "from multiprocessing.dummy import Pool as ThreadPool\n",
    "\n",
    "\n",
    "\n",
    "def squareNumber(ns):\n",
    "    result=[]\n",
    "    for i in(ns):\n",
    "        result.append(i**2)\n",
    "    return result\n",
    "\n",
    "# function to be mapped over\n",
    "def calculateParallel(lists, threads=2):\n",
    "    pool = ThreadPool(threads)\n",
    "    results = pool.map(squareNumber, lists)\n",
    "    pool.close()\n",
    "    pool.join()\n",
    "    return results\n",
    "\n",
    "if __name__ == \"__main__\":\n",
    "\n",
    "    sublistdepth=2\n",
    "    listoflists=[]\n",
    "    tmplist=[]\n",
    "    for i in range(10000000):\n",
    "        tmplist.append(i)\n",
    "        if len(tmplist)>=sublistdepth:\n",
    "            listoflists.append(tmplist)\n",
    "            tmplist=[]\n",
    "\n",
    "    startedAt = time.time()\n",
    "    squaredNumbers = calculateParallel(listoflists, 1)\n",
    "    print(\"1 thread done task in \"+str(round(time.time()-startedAt,2))+\" secs\")\n",
    "\n",
    "\n",
    "    startedAt = time.time()\n",
    "    squaredNumbers = calculateParallel(listoflists, 4)\n",
    "    print(\"4 thread done task in \"+str(round(time.time()-startedAt,2))+\" secs\")\n"
   ]
  },
  {
   "cell_type": "code",
   "execution_count": 2,
   "metadata": {},
   "outputs": [
    {
     "name": "stdout",
     "output_type": "stream",
     "text": [
      "Process IdProcess IdProcess Id  Process Id1874118740 \n",
      "\n",
      "18739 \n",
      "18738\n",
      "[0, 1, 2, 3]\n"
     ]
    }
   ],
   "source": [
    "#python 3.x\n",
    "from multiprocessing import Pool\n",
    "import os\n",
    "import time\n",
    "\n",
    "\n",
    "\n",
    "def sleepy(x):\n",
    "    print(\"Process Id\",os.getpid())\n",
    "    time.sleep(x)\n",
    "    return x\n",
    "\n",
    "if __name__ == \"__main__\":\n",
    "     p = Pool(5)\n",
    "     pool_output = p.map(sleepy,range(4))\n",
    "     print(pool_output)\n"
   ]
  },
  {
   "cell_type": "code",
   "execution_count": null,
   "metadata": {},
   "outputs": [],
   "source": [
    "#python 3.x\n",
    "from multiprocessing import Pool\n",
    "import os\n",
    "import time\n",
    "\n",
    "def squareIT(n):\n",
    "    return n**2\n",
    "\n",
    "def squareNumber(ns):\n",
    "    result=[]\n",
    "    for i in(ns):\n",
    "        result.append(i**2)\n",
    "    return result\n",
    "\n",
    "# function to be mapped over\n",
    "def calculateParallelLISTS(lists, threads=2):\n",
    "    pool = Pool(threads)\n",
    "    results = pool.map(squareNumber, lists)\n",
    "    pool.close()\n",
    "    pool.join()\n",
    "    return results\n",
    "\n",
    "def calculateParallel(listIK, threads=2):\n",
    "    pool = Pool(threads)\n",
    "    results = pool.map(squareIT, listIK)\n",
    "    pool.close()\n",
    "    pool.join()\n",
    "    return results\n",
    "\n",
    "if __name__ == \"__main__\":\n",
    "\n",
    "    startedAt = time.time()\n",
    "    sublistdepth=250000\n",
    "    listoflists=[]\n",
    "    tmplist=[]\n",
    "    for i in range(1000000):\n",
    "        tmplist.append(i)\n",
    "        if len(tmplist)>=sublistdepth:\n",
    "            listoflists.append(tmplist)\n",
    "            tmplist=[]\n",
    "    \n",
    "    print(\"formed list of lists of numbers in \"+str(round(time.time()-startedAt,2))+\" secs\")\n",
    "    startedAt = time.time()\n",
    "\n",
    "\n",
    "    tmplist=[]\n",
    "    for i in range(1000000):\n",
    "        tmplist.append(i)\n",
    "    print(\"formed list of numbers in \"+str(round(time.time()-startedAt,2))+\" secs\")\n",
    "\n",
    "    \n",
    "    startedAt = time.time()\n",
    "    pool_output = calculateParallel(tmplist,1)\n",
    "    print(\"1 thread done task in \"+str(round(time.time()-startedAt,2))+\" secs\")\n",
    "\n",
    "\n",
    "    startedAt = time.time()\n",
    "    pool_output = calculateParallel(tmplist,4)\n",
    "    print(\"4 thread done task in \"+str(round(time.time()-startedAt,2))+\" secs\")\n",
    "\n",
    "    \n",
    "    startedAt = time.time()\n",
    "    pool_output = calculateParallelLISTS(listoflists,1)\n",
    "    print(\"1 thread done task in \"+str(round(time.time()-startedAt,2))+\" secs\")\n",
    "\n",
    "\n",
    "    startedAt = time.time()\n",
    "    pool_output = calculateParallelLISTS(listoflists,4)\n",
    "    print(\"4 thread done task in \"+str(round(time.time()-startedAt,2))+\" secs\")"
   ]
  }
 ],
 "metadata": {
  "interpreter": {
   "hash": "767d51c1340bd893661ea55ea3124f6de3c7a262a8b4abca0554b478b1e2ff90"
  },
  "kernelspec": {
   "display_name": "Python 3.9.7 64-bit",
   "name": "python3"
  },
  "language_info": {
   "codemirror_mode": {
    "name": "ipython",
    "version": 3
   },
   "file_extension": ".py",
   "mimetype": "text/x-python",
   "name": "python",
   "nbconvert_exporter": "python",
   "pygments_lexer": "ipython3",
   "version": "3.9.7"
  },
  "orig_nbformat": 4
 },
 "nbformat": 4,
 "nbformat_minor": 2
}
